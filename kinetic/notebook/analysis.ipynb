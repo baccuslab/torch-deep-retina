{
 "cells": [
  {
   "cell_type": "code",
   "execution_count": 2,
   "metadata": {},
   "outputs": [],
   "source": [
    "import sys\n",
    "sys.path.insert(0, '/home/xhding/workspaces/random_try/torch-deep-retina')\n",
    "import os\n",
    "import numpy as np\n",
    "import matplotlib.pyplot as plt\n",
    "from torch.utils.data.dataloader import DataLoader\n",
    "import torch\n",
    "from kinetic.evaluation import *\n",
    "from kinetic.utils import select_model\n",
    "from kinetic.config import get_custom_cfg\n",
    "from kinetic.data import *\n",
    "from torchdeepretina.utils import *"
   ]
  },
  {
   "cell_type": "code",
   "execution_count": 2,
   "metadata": {},
   "outputs": [
    {
     "data": {
      "text/plain": [
       "KineticsChannelModel(\n",
       "  (bipolar): Sequential(\n",
       "    (0): LinearStackedConv2d(\n",
       "      bias=True, abs_bnorm=False\n",
       "      (convs): Sequential(\n",
       "        (0): Conv2d(40, 8, kernel_size=(3, 3), stride=(1, 1), bias=False)\n",
       "        (1): Conv2d(8, 8, kernel_size=(3, 3), stride=(1, 1), bias=False)\n",
       "        (2): Conv2d(8, 8, kernel_size=(3, 3), stride=(1, 1), bias=False)\n",
       "        (3): Conv2d(8, 8, kernel_size=(3, 3), stride=(1, 1), bias=False)\n",
       "        (4): Conv2d(8, 8, kernel_size=(3, 3), stride=(1, 1), bias=False)\n",
       "        (5): Conv2d(8, 8, kernel_size=(3, 3), stride=(1, 1), bias=False)\n",
       "        (6): Conv2d(8, 8, kernel_size=(3, 3), stride=(1, 1))\n",
       "      )\n",
       "    )\n",
       "    (1): Flatten()\n",
       "    (2): BatchNorm1d(10368, eps=1e-05, momentum=0.01, affine=True, track_running_stats=True)\n",
       "    (3): GaussianNoise(std=0.05, trainable=False, adapt=False, momentum=0.95)\n",
       "    (4): Softplus(beta=1, threshold=20)\n",
       "    (5): Clamp()\n",
       "    (6): Multiply()\n",
       "    (7): Reshape(shape=(-1, 8, 1296))\n",
       "  )\n",
       "  (kinetics): Kinetics_channel(dt=0.001)\n",
       "  (kinet_scale): ScaleShift(shape=(64, 1296), scale=True, shift=True)\n",
       "  (amacrine): Sequential(\n",
       "    (0): Reshape(shape=(-1, 64, 36, 36))\n",
       "    (1): LinearStackedConv2d(\n",
       "      bias=True, abs_bnorm=False\n",
       "      (convs): Sequential(\n",
       "        (0): Conv2d(64, 8, kernel_size=(3, 3), stride=(1, 1), bias=False)\n",
       "        (1): Conv2d(8, 8, kernel_size=(3, 3), stride=(1, 1), bias=False)\n",
       "        (2): Conv2d(8, 8, kernel_size=(3, 3), stride=(1, 1), bias=False)\n",
       "        (3): Conv2d(8, 8, kernel_size=(3, 3), stride=(1, 1), bias=False)\n",
       "        (4): Conv2d(8, 8, kernel_size=(3, 3), stride=(1, 1))\n",
       "      )\n",
       "    )\n",
       "    (2): Flatten()\n",
       "    (3): BatchNorm1d(5408, eps=1e-05, momentum=0.01, affine=True, track_running_stats=True)\n",
       "    (4): GaussianNoise(std=0.05, trainable=False, adapt=False, momentum=0.95)\n",
       "    (5): ReLU()\n",
       "  )\n",
       "  (ganglion): Sequential(\n",
       "    (0): Linear(in_features=5408, out_features=5, bias=True)\n",
       "    (1): BatchNorm1d(5, eps=1e-05, momentum=0.01, affine=True, track_running_stats=True)\n",
       "    (2): Softplus(beta=1, threshold=20)\n",
       "  )\n",
       ")"
      ]
     },
     "execution_count": 2,
     "metadata": {},
     "output_type": "execute_result"
    }
   ],
   "source": [
    "device = torch.device('cuda:1')\n",
    "model = KineticsChannelModel().to(device)\n",
    "cfg = get_custom_cfg('channel')\n",
    "model = select_model(cfg, device)\n",
    "checkpoint_path = '/home/xhding/saved_model/channel/epoch_080_loss_-3.33_pearson_0.4375.pth'\n",
    "checkpoint = torch.load(checkpoint_path, map_location=device)\n",
    "model.load_state_dict(checkpoint['model_state_dict'])\n",
    "model.eval()"
   ]
  },
  {
   "cell_type": "code",
   "execution_count": 4,
   "metadata": {},
   "outputs": [
    {
     "data": {
      "text/plain": [
       "0.5706678581911098"
      ]
     },
     "execution_count": 4,
     "metadata": {},
     "output_type": "execute_result"
    }
   ],
   "source": [
    "test_data =  DataLoader(TestDataset(cfg), batch_size=1)\n",
    "test_pc, pred, targ = pearsonr_eval(model, test_data, 5, device)\n",
    "test_pc"
   ]
  },
  {
   "cell_type": "code",
   "execution_count": 5,
   "metadata": {},
   "outputs": [
    {
     "data": {
      "text/plain": [
       "0.15161894836633308"
      ]
     },
     "execution_count": 5,
     "metadata": {},
     "output_type": "execute_result"
    }
   ],
   "source": [
    "test_data =  DataLoader(TestDataset(cfg), batch_size=1, shuffle=True)\n",
    "test_pc, _, _ = pearsonr_eval(model, test_data, 5, device)\n",
    "test_pc"
   ]
  },
  {
   "cell_type": "code",
   "execution_count": 11,
   "metadata": {},
   "outputs": [
    {
     "name": "stdout",
     "output_type": "stream",
     "text": [
      "kinetics.ka tensor([[ 1.0000],\n",
      "        [ 1.0000],\n",
      "        [ 1.0000],\n",
      "        [ 1.0000],\n",
      "        [ 1.0000],\n",
      "        [-1.0000],\n",
      "        [ 1.0000],\n",
      "        [ 1.0000]], device='cuda:1')\n",
      "kinetics.kfi tensor([[ 0.9982],\n",
      "        [ 0.9220],\n",
      "        [ 0.9997],\n",
      "        [ 0.8444],\n",
      "        [ 0.9985],\n",
      "        [ 0.2441],\n",
      "        [-0.9991],\n",
      "        [ 0.9999]], device='cuda:1')\n",
      "kinetics.kfr tensor([[-1.0000],\n",
      "        [-0.9783],\n",
      "        [ 0.6897],\n",
      "        [ 0.6736],\n",
      "        [ 1.0000],\n",
      "        [-0.8782],\n",
      "        [ 1.0000],\n",
      "        [ 0.9782]], device='cuda:1')\n",
      "kinetics.ksi tensor([[-8.0042e-05],\n",
      "        [ 5.8578e-04],\n",
      "        [ 1.5829e-04],\n",
      "        [-1.5062e-04],\n",
      "        [ 2.6461e-03],\n",
      "        [ 5.4800e-04],\n",
      "        [ 8.2148e-04],\n",
      "        [ 1.5230e-04]], device='cuda:1')\n",
      "kinetics.ksr tensor([[-8.3430e-06],\n",
      "        [-7.4978e-06],\n",
      "        [ 5.8411e-06],\n",
      "        [ 2.1855e-06],\n",
      "        [-1.8767e-05],\n",
      "        [-6.5332e-07],\n",
      "        [-7.8537e-06],\n",
      "        [ 1.7386e-05]], device='cuda:1')\n"
     ]
    }
   ],
   "source": [
    "for key in checkpoint['model_state_dict'].keys():\n",
    "    if 'kinetics' in key:\n",
    "        print(key, checkpoint['model_state_dict'][key])"
   ]
  },
  {
   "cell_type": "code",
   "execution_count": 24,
   "metadata": {},
   "outputs": [
    {
     "data": {
      "text/plain": [
       "(0, 1)"
      ]
     },
     "execution_count": 24,
     "metadata": {},
     "output_type": "execute_result"
    },
    {
     "data": {
      "image/png": "[encoded data removed]",
      "text/plain": [
       "<Figure size 432x720 with 1 Axes>"
      ]
     },
     "metadata": {
      "needs_background": "light"
     },
     "output_type": "display_data"
    }
   ],
   "source": [
    "fig, ax = plt.subplots(figsize=(6,10))\n",
    "rects1 = ax.bar(['normal', 'shuffled'], [0.57, 0.13], color=['blue', 'red'])\n",
    "ax.set_ylabel('Pearson Correlation')\n",
    "ax.set_ylim([0, 1])"
   ]
  },
  {
   "cell_type": "code",
   "execution_count": 11,
   "metadata": {},
   "outputs": [
    {
     "data": {
      "text/plain": [
       "<matplotlib.legend.Legend at 0x7f8e993a31d0>"
      ]
     },
     "execution_count": 11,
     "metadata": {},
     "output_type": "execute_result"
    },
    {
     "data": {
      "image/png": "[encoded data removed]",
      "text/plain": [
       "<Figure size 432x288 with 1 Axes>"
      ]
     },
     "metadata": {
      "needs_background": "light"
     },
     "output_type": "display_data"
    }
   ],
   "source": [
    "plt.plot(np.arange(1600,1800),pred[1600:1800,3], label='predict')\n",
    "plt.plot(np.arange(1600,1800),targ[1600:1800,3], label='target')\n",
    "plt.legend()"
   ]
  },
  {
   "cell_type": "code",
   "execution_count": 7,
   "metadata": {},
   "outputs": [
    {
     "data": {
      "text/plain": [
       "(5956, 5)"
      ]
     },
     "execution_count": 7,
     "metadata": {},
     "output_type": "execute_result"
    }
   ],
   "source": [
    "targ.shape"
   ]
  },
  {
   "cell_type": "code",
   "execution_count": 6,
   "metadata": {},
   "outputs": [],
   "source": [
    "test_dataset = TestDataset(cfg)\n",
    "batch_sampler = BatchRnnSampler(length=len(test_dataset), batch_size=1, seq_len=cfg.Data.seq_len)\n",
    "test_data = DataLoader(dataset=test_dataset, batch_sampler=batch_sampler)"
   ]
  },
  {
   "cell_type": "code",
   "execution_count": 16,
   "metadata": {},
   "outputs": [],
   "source": [
    "def inspect_rnn(model, curr_hs, data, device=torch.device('cuda:1')):\n",
    "    hs = []\n",
    "    hs.append(curr_hs[0].detach())\n",
    "    hs.append(deque([h.detach() for h in curr_hs[1]], maxlen=model.seq_len))\n",
    "    data = data.to(device)\n",
    "    for x in data:\n",
    "        x = x[None,:,:,:]\n",
    "        out, hs = model(x, hs)\n",
    "    return out\n",
    "\n",
    "def stimulus_importance_rnn(model, X, gc_idx=None, alpha_steps=5, \n",
    "                            seq_len=8, device=torch.device('cuda:1')):\n",
    "    \n",
    "    requires_grad(model, False) # Model gradient unnecessary for integrated gradient\n",
    "    prev_grad_state = torch.is_grad_enabled() # Save current grad calculation state\n",
    "    torch.set_grad_enabled(True) # Enable grad calculations\n",
    "    \n",
    "    if gc_idx is None:\n",
    "        gc_idx = list(range(model.n_units))\n",
    "    intg_grad = torch.zeros(seq_len, *model.image_shape)\n",
    "    curr_hs = get_hs(model, 1, device)\n",
    "    model = model.to(device)\n",
    "    model.eval()\n",
    "    X = torch.FloatTensor(X)\n",
    "    X.requires_grad = True\n",
    "    idxs = torch.arange(len(X)).long()\n",
    "    for start_idx in range(0, len(X) - seq_len):\n",
    "        linspace = torch.linspace(0,1,alpha_steps)\n",
    "        idx = idxs[start_idx: start_idx + seq_len]\n",
    "        with torch.no_grad():\n",
    "            out, next_hs = model(X[start_idx][None,:,:,:].to(device), curr_hs)\n",
    "        curr_intg_grad = torch.zeros(seq_len, *model.image_shape)\n",
    "        for alpha in linspace:\n",
    "            x = X[idx].to(device) * alpha\n",
    "            outs = inspect_rnn(model, curr_hs, x)[:,gc_idx]\n",
    "            grad = torch.autograd.grad(outs.sum(), x)[0]\n",
    "            grad = grad.detach().cpu().reshape(*intg_grad.shape)\n",
    "            act = X[idx].detach().cpu()\n",
    "            curr_intg_grad += grad*act\n",
    "        intg_grad += torch.mul(curr_intg_grad, curr_intg_grad) / (len(X) - seq_len)\n",
    "        curr_hs = next_hs\n",
    "            \n",
    "    requires_grad(model, True)\n",
    "    torch.set_grad_enabled(prev_grad_state)\n",
    "    \n",
    "    intg_grad = intg_grad.view(seq_len * model.image_shape[0], *model.image_shape[1:])\n",
    "    intg_grad = torch.mean(intg_grad, dim=(1,2))\n",
    "    intg_grad = torch.sqrt(intg_grad)\n",
    "    intg_grad = intg_grad.data.cpu().numpy()\n",
    "    return intg_grad"
   ]
  },
  {
   "cell_type": "code",
   "execution_count": 15,
   "metadata": {},
   "outputs": [],
   "source": [
    "data = loadexpt('15-10-07', [0,1,2,3,4], 'naturalscene', 'test',\n",
    "                        cfg.img_shape[0], 0, data_path=cfg.Data.data_path)\n",
    "X = data.X[0:1000]\n",
    "intg_grad = stimulus_importance_rnn(model, X, alpha_steps=5)"
   ]
  },
  {
   "cell_type": "code",
   "execution_count": 18,
   "metadata": {},
   "outputs": [
    {
     "data": {
      "text/plain": [
       "[Text(0, 0.5, 'Importance'), Text(0.5, 0, 't / frame')]"
      ]
     },
     "execution_count": 18,
     "metadata": {},
     "output_type": "execute_result"
    },
    {
     "data": {
      "image/png": "[encoded data removed]",
      "text/plain": [
       "<Figure size 432x288 with 1 Axes>"
      ]
     },
     "metadata": {
      "needs_background": "light"
     },
     "output_type": "display_data"
    }
   ],
   "source": [
    "fig, ax = plt.subplots()\n",
    "ax.plot(np.arange(320), intg_grad)\n",
    "ax.set(xlabel='t / frame', ylabel='Importance')"
   ]
  },
  {
   "cell_type": "code",
   "execution_count": 3,
   "metadata": {},
   "outputs": [
    {
     "ename": "KeyError",
     "evalue": "'channel_filter'",
     "output_type": "error",
     "traceback": [
      "\u001b[0;31m---------------------------------------------------------------------------\u001b[0m",
      "\u001b[0;31mKeyError\u001b[0m                                  Traceback (most recent call last)",
      "\u001b[0;32m<ipython-input-3-98ed828c1a78>\u001b[0m in \u001b[0;36m<module>\u001b[0;34m\u001b[0m\n\u001b[1;32m      1\u001b[0m \u001b[0mdevice\u001b[0m \u001b[0;34m=\u001b[0m \u001b[0mtorch\u001b[0m\u001b[0;34m.\u001b[0m\u001b[0mdevice\u001b[0m\u001b[0;34m(\u001b[0m\u001b[0;34m'cuda:2'\u001b[0m\u001b[0;34m)\u001b[0m\u001b[0;34m\u001b[0m\u001b[0;34m\u001b[0m\u001b[0m\n\u001b[0;32m----> 2\u001b[0;31m \u001b[0mcfg\u001b[0m \u001b[0;34m=\u001b[0m \u001b[0mget_custom_cfg\u001b[0m\u001b[0;34m(\u001b[0m\u001b[0;34m'channel_filter'\u001b[0m\u001b[0;34m)\u001b[0m\u001b[0;34m\u001b[0m\u001b[0;34m\u001b[0m\u001b[0m\n\u001b[0m\u001b[1;32m      3\u001b[0m \u001b[0mmodel\u001b[0m \u001b[0;34m=\u001b[0m \u001b[0mselect_model\u001b[0m\u001b[0;34m(\u001b[0m\u001b[0mcfg\u001b[0m\u001b[0;34m,\u001b[0m \u001b[0mdevice\u001b[0m\u001b[0;34m)\u001b[0m\u001b[0;34m\u001b[0m\u001b[0;34m\u001b[0m\u001b[0m\n\u001b[1;32m      4\u001b[0m \u001b[0mcheckpoint_path\u001b[0m \u001b[0;34m=\u001b[0m \u001b[0;34m'/home/xhding/saved_model/channel_filter/epoch_10_loss_-27.42987749385597_pearson_0.45068423074452113.pth'\u001b[0m\u001b[0;34m\u001b[0m\u001b[0;34m\u001b[0m\u001b[0m\n\u001b[1;32m      5\u001b[0m \u001b[0mcheckpoint\u001b[0m \u001b[0;34m=\u001b[0m \u001b[0mtorch\u001b[0m\u001b[0;34m.\u001b[0m\u001b[0mload\u001b[0m\u001b[0;34m(\u001b[0m\u001b[0mcheckpoint_path\u001b[0m\u001b[0;34m,\u001b[0m \u001b[0mmap_location\u001b[0m\u001b[0;34m=\u001b[0m\u001b[0mdevice\u001b[0m\u001b[0;34m)\u001b[0m\u001b[0;34m\u001b[0m\u001b[0;34m\u001b[0m\u001b[0m\n",
      "\u001b[0;32m~/workspaces/torch-deep-retina/kinetic/config/__init__.py\u001b[0m in \u001b[0;36mget_custom_cfg\u001b[0;34m(name)\u001b[0m\n\u001b[1;32m     16\u001b[0m \u001b[0;32mdef\u001b[0m \u001b[0mget_custom_cfg\u001b[0m\u001b[0;34m(\u001b[0m\u001b[0mname\u001b[0m\u001b[0;34m)\u001b[0m\u001b[0;34m:\u001b[0m\u001b[0;34m\u001b[0m\u001b[0;34m\u001b[0m\u001b[0m\n\u001b[1;32m     17\u001b[0m     \u001b[0mcfg\u001b[0m \u001b[0;34m=\u001b[0m \u001b[0mget_default_cfg\u001b[0m\u001b[0;34m(\u001b[0m\u001b[0;34m)\u001b[0m\u001b[0;34m\u001b[0m\u001b[0;34m\u001b[0m\u001b[0m\n\u001b[0;32m---> 18\u001b[0;31m     \u001b[0mcfg\u001b[0m\u001b[0;34m.\u001b[0m\u001b[0mmerge_from_file\u001b[0m\u001b[0;34m(\u001b[0m\u001b[0mcustom_config_files\u001b[0m\u001b[0;34m[\u001b[0m\u001b[0mname\u001b[0m\u001b[0;34m]\u001b[0m\u001b[0;34m)\u001b[0m\u001b[0;34m\u001b[0m\u001b[0;34m\u001b[0m\u001b[0m\n\u001b[0m\u001b[1;32m     19\u001b[0m     \u001b[0;32mreturn\u001b[0m \u001b[0mcfg\u001b[0m\u001b[0;34m\u001b[0m\u001b[0;34m\u001b[0m\u001b[0m\n",
      "\u001b[0;31mKeyError\u001b[0m: 'channel_filter'"
     ]
    }
   ],
   "source": [
    "device = torch.device('cuda:2')\n",
    "cfg = get_custom_cfg('channel_filter')\n",
    "model = select_model(cfg, device)\n",
    "checkpoint_path = '/home/xhding/saved_model/channel_filter/epoch_10_loss_-27.42987749385597_pearson_0.45068423074452113.pth'\n",
    "checkpoint = torch.load(checkpoint_path, map_location=device)\n",
    "model.load_state_dict(checkpoint['model_state_dict'])\n",
    "model.eval()"
   ]
  },
  {
   "cell_type": "code",
   "execution_count": null,
   "metadata": {},
   "outputs": [],
   "source": []
  }
 ],
 "metadata": {
  "kernelspec": {
   "display_name": "Python 3",
   "language": "python",
   "name": "python3"
  },
  "language_info": {
   "codemirror_mode": {
    "name": "ipython",
    "version": 3
   },
   "file_extension": ".py",
   "mimetype": "text/x-python",
   "name": "python",
   "nbconvert_exporter": "python",
   "pygments_lexer": "ipython3",
   "version": "3.6.9"
  }
 },
 "nbformat": 4,
 "nbformat_minor": 4
}
