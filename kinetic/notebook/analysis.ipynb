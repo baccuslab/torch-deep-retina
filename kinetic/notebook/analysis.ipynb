{
 "cells": [
  {
   "cell_type": "code",
   "execution_count": 1,
   "metadata": {},
   "outputs": [],
   "source": [
    "import sys\n",
    "sys.path.insert(0, '/home/xhding/workspaces/torch-deep-retina')\n",
    "import os\n",
    "import numpy as np\n",
    "import matplotlib.pyplot as plt\n",
    "from torch.utils.data.dataset import Dataset\n",
    "from torch.utils.data.dataloader import DataLoader\n",
    "import torch\n",
    "from kinetic.evaluation import *\n",
    "from kinetic.utils import select_model\n",
    "from kinetic.config import get_custom_cfg\n",
    "from kinetic.data import TestDataset"
   ]
  },
  {
   "cell_type": "code",
   "execution_count": 2,
   "metadata": {},
   "outputs": [
    {
     "data": {
      "text/plain": [
       "KineticsChannelModel(\n",
       "  (bipolar): Sequential(\n",
       "    (0): LinearStackedConv2d(\n",
       "      bias=True, abs_bnorm=False\n",
       "      (convs): Sequential(\n",
       "        (0): Conv2d(40, 8, kernel_size=(3, 3), stride=(1, 1), bias=False)\n",
       "        (1): Conv2d(8, 8, kernel_size=(3, 3), stride=(1, 1), bias=False)\n",
       "        (2): Conv2d(8, 8, kernel_size=(3, 3), stride=(1, 1), bias=False)\n",
       "        (3): Conv2d(8, 8, kernel_size=(3, 3), stride=(1, 1), bias=False)\n",
       "        (4): Conv2d(8, 8, kernel_size=(3, 3), stride=(1, 1), bias=False)\n",
       "        (5): Conv2d(8, 8, kernel_size=(3, 3), stride=(1, 1), bias=False)\n",
       "        (6): Conv2d(8, 8, kernel_size=(3, 3), stride=(1, 1))\n",
       "      )\n",
       "    )\n",
       "    (1): Flatten()\n",
       "    (2): BatchNorm1d(10368, eps=1e-05, momentum=0.01, affine=True, track_running_stats=True)\n",
       "    (3): GaussianNoise(std=0.05, trainable=False, adapt=False, momentum=0.95)\n",
       "    (4): Softplus(beta=1, threshold=20)\n",
       "    (5): Clamp()\n",
       "    (6): Multiply()\n",
       "    (7): Reshape(shape=(-1, 8, 1296))\n",
       "  )\n",
       "  (kinetics): Kinetics_channel(dt=0.001)\n",
       "  (kinet_scale): ScaleShift(shape=(64, 1296), scale=True, shift=True)\n",
       "  (amacrine): Sequential(\n",
       "    (0): Reshape(shape=(-1, 64, 36, 36))\n",
       "    (1): LinearStackedConv2d(\n",
       "      bias=True, abs_bnorm=False\n",
       "      (convs): Sequential(\n",
       "        (0): Conv2d(64, 8, kernel_size=(3, 3), stride=(1, 1), bias=False)\n",
       "        (1): Conv2d(8, 8, kernel_size=(3, 3), stride=(1, 1), bias=False)\n",
       "        (2): Conv2d(8, 8, kernel_size=(3, 3), stride=(1, 1), bias=False)\n",
       "        (3): Conv2d(8, 8, kernel_size=(3, 3), stride=(1, 1), bias=False)\n",
       "        (4): Conv2d(8, 8, kernel_size=(3, 3), stride=(1, 1))\n",
       "      )\n",
       "    )\n",
       "    (2): Flatten()\n",
       "    (3): BatchNorm1d(5408, eps=1e-05, momentum=0.01, affine=True, track_running_stats=True)\n",
       "    (4): GaussianNoise(std=0.05, trainable=False, adapt=False, momentum=0.95)\n",
       "    (5): ReLU()\n",
       "  )\n",
       "  (ganglion): Sequential(\n",
       "    (0): Linear(in_features=5408, out_features=5, bias=True)\n",
       "    (1): BatchNorm1d(5, eps=1e-05, momentum=0.01, affine=True, track_running_stats=True)\n",
       "    (2): Softplus(beta=1, threshold=20)\n",
       "  )\n",
       ")"
      ]
     },
     "execution_count": 2,
     "metadata": {},
     "output_type": "execute_result"
    }
   ],
   "source": [
    "device = torch.device('cuda:1')\n",
    "model = KineticsChannelModel().to(device)\n",
    "cfg = get_custom_cfg('channel')\n",
    "model = select_model(cfg, device)\n",
    "checkpoint_path = '/home/xhding/saved_model/channel/epoch_080_loss_-3.33_pearson_0.4375.pth'\n",
    "checkpoint = torch.load(checkpoint_path, map_location=device)\n",
    "model.load_state_dict(checkpoint['model_state_dict'])\n",
    "model.eval()"
   ]
  },
  {
   "cell_type": "code",
   "execution_count": 5,
   "metadata": {},
   "outputs": [
    {
     "data": {
      "text/plain": [
       "0.5706678715312947"
      ]
     },
     "execution_count": 5,
     "metadata": {},
     "output_type": "execute_result"
    }
   ],
   "source": [
    "test_data =  DataLoader(TestDataset(cfg), batch_size=1)\n",
    "test_pc = pearsonr_eval(model, test_data, 5, device)\n",
    "test_pc"
   ]
  },
  {
   "cell_type": "code",
   "execution_count": 6,
   "metadata": {},
   "outputs": [
    {
     "data": {
      "text/plain": [
       "0.15041225536943686"
      ]
     },
     "execution_count": 6,
     "metadata": {},
     "output_type": "execute_result"
    }
   ],
   "source": [
    "test_data =  DataLoader(TestDataset(cfg), batch_size=1, shuffle=True)\n",
    "test_pc = pearsonr_eval(model, test_data, 5, device)\n",
    "test_pc"
   ]
  },
  {
   "cell_type": "code",
   "execution_count": null,
   "metadata": {},
   "outputs": [],
   "source": []
  }
 ],
 "metadata": {
  "kernelspec": {
   "display_name": "Python 3",
   "language": "python",
   "name": "python3"
  },
  "language_info": {
   "codemirror_mode": {
    "name": "ipython",
    "version": 3
   },
   "file_extension": ".py",
   "mimetype": "text/x-python",
   "name": "python",
   "nbconvert_exporter": "python",
   "pygments_lexer": "ipython3",
   "version": "3.6.8"
  }
 },
 "nbformat": 4,
 "nbformat_minor": 4
}
