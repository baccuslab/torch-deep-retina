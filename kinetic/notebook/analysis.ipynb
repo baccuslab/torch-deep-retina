{
 "cells": [
  {
   "cell_type": "code",
   "execution_count": 1,
   "metadata": {},
   "outputs": [],
   "source": [
    "import sys\n",
    "sys.path.insert(0, '/home/xhding/workspaces/torch-deep-retina')\n",
    "import os\n",
    "import numpy as np\n",
    "import matplotlib.pyplot as plt\n",
    "from torch.utils.data.dataloader import DataLoader\n",
    "import torch\n",
    "from kinetic.evaluation import *\n",
    "from kinetic.utils import select_model\n",
    "from kinetic.config import get_custom_cfg\n",
    "from kinetic.data import TestDataset\n",
    "from torchdeepretina.utils import *"
   ]
  },
  {
   "cell_type": "code",
   "execution_count": 3,
   "metadata": {},
   "outputs": [
    {
     "data": {
      "text/plain": [
       "KineticsChannelModel(\n",
       "  (bipolar): Sequential(\n",
       "    (0): LinearStackedConv2d(\n",
       "      bias=True, abs_bnorm=False\n",
       "      (convs): Sequential(\n",
       "        (0): Conv2d(40, 8, kernel_size=(3, 3), stride=(1, 1), bias=False)\n",
       "        (1): Conv2d(8, 8, kernel_size=(3, 3), stride=(1, 1), bias=False)\n",
       "        (2): Conv2d(8, 8, kernel_size=(3, 3), stride=(1, 1), bias=False)\n",
       "        (3): Conv2d(8, 8, kernel_size=(3, 3), stride=(1, 1), bias=False)\n",
       "        (4): Conv2d(8, 8, kernel_size=(3, 3), stride=(1, 1), bias=False)\n",
       "        (5): Conv2d(8, 8, kernel_size=(3, 3), stride=(1, 1), bias=False)\n",
       "        (6): Conv2d(8, 8, kernel_size=(3, 3), stride=(1, 1))\n",
       "      )\n",
       "    )\n",
       "    (1): Flatten()\n",
       "    (2): BatchNorm1d(10368, eps=1e-05, momentum=0.01, affine=True, track_running_stats=True)\n",
       "    (3): GaussianNoise(std=0.05, trainable=False, adapt=False, momentum=0.95)\n",
       "    (4): Softplus(beta=1, threshold=20)\n",
       "    (5): Clamp()\n",
       "    (6): Multiply()\n",
       "    (7): Reshape(shape=(-1, 8, 1296))\n",
       "  )\n",
       "  (kinetics): Kinetics_channel(dt=0.001)\n",
       "  (kinet_scale): ScaleShift(shape=(64, 1296), scale=True, shift=True)\n",
       "  (amacrine): Sequential(\n",
       "    (0): Reshape(shape=(-1, 64, 36, 36))\n",
       "    (1): LinearStackedConv2d(\n",
       "      bias=True, abs_bnorm=False\n",
       "      (convs): Sequential(\n",
       "        (0): Conv2d(64, 8, kernel_size=(3, 3), stride=(1, 1), bias=False)\n",
       "        (1): Conv2d(8, 8, kernel_size=(3, 3), stride=(1, 1), bias=False)\n",
       "        (2): Conv2d(8, 8, kernel_size=(3, 3), stride=(1, 1), bias=False)\n",
       "        (3): Conv2d(8, 8, kernel_size=(3, 3), stride=(1, 1), bias=False)\n",
       "        (4): Conv2d(8, 8, kernel_size=(3, 3), stride=(1, 1))\n",
       "      )\n",
       "    )\n",
       "    (2): Flatten()\n",
       "    (3): BatchNorm1d(5408, eps=1e-05, momentum=0.01, affine=True, track_running_stats=True)\n",
       "    (4): GaussianNoise(std=0.05, trainable=False, adapt=False, momentum=0.95)\n",
       "    (5): ReLU()\n",
       "  )\n",
       "  (ganglion): Sequential(\n",
       "    (0): Linear(in_features=5408, out_features=5, bias=True)\n",
       "    (1): BatchNorm1d(5, eps=1e-05, momentum=0.01, affine=True, track_running_stats=True)\n",
       "    (2): Softplus(beta=1, threshold=20)\n",
       "  )\n",
       ")"
      ]
     },
     "execution_count": 3,
     "metadata": {},
     "output_type": "execute_result"
    }
   ],
   "source": [
    "device = torch.device('cuda:0')\n",
    "model = KineticsChannelModel().to(device)\n",
    "cfg = get_custom_cfg('channel')\n",
    "model = select_model(cfg, device)\n",
    "checkpoint_path = '/home/xhding/saved_model/channel/epoch_080_loss_-3.33_pearson_0.4375.pth'\n",
    "checkpoint = torch.load(checkpoint_path, map_location=device)\n",
    "model.load_state_dict(checkpoint['model_state_dict'])\n",
    "model.eval()"
   ]
  },
  {
   "cell_type": "code",
   "execution_count": 4,
   "metadata": {},
   "outputs": [
    {
     "data": {
      "text/plain": [
       "0.5706678581911098"
      ]
     },
     "execution_count": 4,
     "metadata": {},
     "output_type": "execute_result"
    }
   ],
   "source": [
    "test_data =  DataLoader(TestDataset(cfg), batch_size=1)\n",
    "test_pc, pred, targ = pearsonr_eval(model, test_data, 5, device)\n",
    "test_pc"
   ]
  },
  {
   "cell_type": "code",
   "execution_count": 5,
   "metadata": {},
   "outputs": [
    {
     "data": {
      "text/plain": [
       "0.15161894836633308"
      ]
     },
     "execution_count": 5,
     "metadata": {},
     "output_type": "execute_result"
    }
   ],
   "source": [
    "test_data =  DataLoader(TestDataset(cfg), batch_size=1, shuffle=True)\n",
    "test_pc, _, _ = pearsonr_eval(model, test_data, 5, device)\n",
    "test_pc"
   ]
  },
  {
   "cell_type": "code",
   "execution_count": 11,
   "metadata": {},
   "outputs": [
    {
     "name": "stdout",
     "output_type": "stream",
     "text": [
      "kinetics.ka tensor([[ 1.0000],\n",
      "        [ 1.0000],\n",
      "        [ 1.0000],\n",
      "        [ 1.0000],\n",
      "        [ 1.0000],\n",
      "        [-1.0000],\n",
      "        [ 1.0000],\n",
      "        [ 1.0000]], device='cuda:1')\n",
      "kinetics.kfi tensor([[ 0.9982],\n",
      "        [ 0.9220],\n",
      "        [ 0.9997],\n",
      "        [ 0.8444],\n",
      "        [ 0.9985],\n",
      "        [ 0.2441],\n",
      "        [-0.9991],\n",
      "        [ 0.9999]], device='cuda:1')\n",
      "kinetics.kfr tensor([[-1.0000],\n",
      "        [-0.9783],\n",
      "        [ 0.6897],\n",
      "        [ 0.6736],\n",
      "        [ 1.0000],\n",
      "        [-0.8782],\n",
      "        [ 1.0000],\n",
      "        [ 0.9782]], device='cuda:1')\n",
      "kinetics.ksi tensor([[-8.0042e-05],\n",
      "        [ 5.8578e-04],\n",
      "        [ 1.5829e-04],\n",
      "        [-1.5062e-04],\n",
      "        [ 2.6461e-03],\n",
      "        [ 5.4800e-04],\n",
      "        [ 8.2148e-04],\n",
      "        [ 1.5230e-04]], device='cuda:1')\n",
      "kinetics.ksr tensor([[-8.3430e-06],\n",
      "        [-7.4978e-06],\n",
      "        [ 5.8411e-06],\n",
      "        [ 2.1855e-06],\n",
      "        [-1.8767e-05],\n",
      "        [-6.5332e-07],\n",
      "        [-7.8537e-06],\n",
      "        [ 1.7386e-05]], device='cuda:1')\n"
     ]
    }
   ],
   "source": [
    "for key in checkpoint['model_state_dict'].keys():\n",
    "    if 'kinetics' in key:\n",
    "        print(key, checkpoint['model_state_dict'][key])"
   ]
  },
  {
   "cell_type": "code",
   "execution_count": 24,
   "metadata": {},
   "outputs": [
    {
     "data": {
      "text/plain": [
       "(0, 1)"
      ]
     },
     "execution_count": 24,
     "metadata": {},
     "output_type": "execute_result"
    },
    {
     "data": {
      "image/png": "[encoded data removed]",
      "text/plain": [
       "<Figure size 432x720 with 1 Axes>"
      ]
     },
     "metadata": {
      "needs_background": "light"
     },
     "output_type": "display_data"
    }
   ],
   "source": [
    "fig, ax = plt.subplots(figsize=(6,10))\n",
    "rects1 = ax.bar(['normal', 'shuffled'], [0.57, 0.13], color=['blue', 'red'])\n",
    "ax.set_ylabel('Pearson Correlation')\n",
    "ax.set_ylim([0, 1])"
   ]
  },
  {
   "cell_type": "code",
   "execution_count": 11,
   "metadata": {},
   "outputs": [
    {
     "data": {
      "text/plain": [
       "<matplotlib.legend.Legend at 0x7f8e993a31d0>"
      ]
     },
     "execution_count": 11,
     "metadata": {},
     "output_type": "execute_result"
    },
    {
     "data": {
      "image/png": "[encoded data removed]",
      "text/plain": [
       "<Figure size 432x288 with 1 Axes>"
      ]
     },
     "metadata": {
      "needs_background": "light"
     },
     "output_type": "display_data"
    }
   ],
   "source": [
    "plt.plot(np.arange(1600,1800),pred[1600:1800,3], label='predict')\n",
    "plt.plot(np.arange(1600,1800),targ[1600:1800,3], label='target')\n",
    "plt.legend()"
   ]
  },
  {
   "cell_type": "code",
   "execution_count": 7,
   "metadata": {},
   "outputs": [
    {
     "data": {
      "text/plain": [
       "(5956, 5)"
      ]
     },
     "execution_count": 7,
     "metadata": {},
     "output_type": "execute_result"
    }
   ],
   "source": [
    "targ.shape"
   ]
  },
  {
   "cell_type": "code",
   "execution_count": null,
   "metadata": {},
   "outputs": [],
   "source": []
  }
 ],
 "metadata": {
  "kernelspec": {
   "display_name": "Python 3",
   "language": "python",
   "name": "python3"
  },
  "language_info": {
   "codemirror_mode": {
    "name": "ipython",
    "version": 3
   },
   "file_extension": ".py",
   "mimetype": "text/x-python",
   "name": "python",
   "nbconvert_exporter": "python",
   "pygments_lexer": "ipython3",
   "version": "3.6.8"
  }
 },
 "nbformat": 4,
 "nbformat_minor": 4
}
