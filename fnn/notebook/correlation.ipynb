{
 "cells": [
  {
   "cell_type": "code",
   "execution_count": 1,
   "metadata": {},
   "outputs": [],
   "source": [
    "%load_ext autoreload"
   ]
  },
  {
   "cell_type": "code",
   "execution_count": 2,
   "metadata": {},
   "outputs": [],
   "source": [
    "%autoreload 2"
   ]
  },
  {
   "cell_type": "code",
   "execution_count": 86,
   "metadata": {},
   "outputs": [],
   "source": [
    "import sys\n",
    "sys.path.append('/home/xhding/workspaces/torch-deep-retina')\n",
    "import os\n",
    "import numpy as np\n",
    "import matplotlib.pyplot as plt\n",
    "import torch\n",
    "import h5py\n",
    "from  torch.utils.data.dataset import Dataset\n",
    "from torch.utils.data.dataloader import DataLoader\n",
    "from scipy.stats import pearsonr\n",
    "from fnn.evaluation import *\n",
    "from fnn.utils import select_model\n",
    "from fnn.config import get_custom_cfg\n",
    "from fnn.data import TestDataset, ValidationDataset\n",
    "from fnn.notebook.utils import *\n",
    "from torchdeepretina.datas import loadexpt"
   ]
  },
  {
   "cell_type": "code",
   "execution_count": 4,
   "metadata": {},
   "outputs": [
    {
     "data": {
      "text/plain": [
       "BN_CNN_Stack(\n",
       "  (bipolar): Sequential(\n",
       "    (0): LinearStackedConv2d(\n",
       "      bias=True, abs_bnorm=False\n",
       "      (convs): Sequential(\n",
       "        (0): Conv2d(40, 8, kernel_size=(3, 3), stride=(1, 1), bias=False)\n",
       "        (1): Conv2d(8, 8, kernel_size=(3, 3), stride=(1, 1), bias=False)\n",
       "        (2): Conv2d(8, 8, kernel_size=(3, 3), stride=(1, 1), bias=False)\n",
       "        (3): Conv2d(8, 8, kernel_size=(3, 3), stride=(1, 1), bias=False)\n",
       "        (4): Conv2d(8, 8, kernel_size=(3, 3), stride=(1, 1), bias=False)\n",
       "        (5): Conv2d(8, 8, kernel_size=(3, 3), stride=(1, 1), bias=False)\n",
       "        (6): Conv2d(8, 8, kernel_size=(3, 3), stride=(1, 1))\n",
       "      )\n",
       "    )\n",
       "    (1): Flatten()\n",
       "    (2): BatchNorm1d(10368, eps=1e-05, momentum=0.01, affine=True, track_running_stats=True)\n",
       "    (3): GaussianNoise(std=0.05, trainable=False, adapt=False, momentum=0.95)\n",
       "    (4): ReLU()\n",
       "  )\n",
       "  (amacrine): Sequential(\n",
       "    (0): Reshape(shape=(-1, 8, 36, 36))\n",
       "    (1): LinearStackedConv2d(\n",
       "      bias=True, abs_bnorm=False\n",
       "      (convs): Sequential(\n",
       "        (0): Conv2d(8, 8, kernel_size=(3, 3), stride=(1, 1), bias=False)\n",
       "        (1): Conv2d(8, 8, kernel_size=(3, 3), stride=(1, 1), bias=False)\n",
       "        (2): Conv2d(8, 8, kernel_size=(3, 3), stride=(1, 1), bias=False)\n",
       "        (3): Conv2d(8, 8, kernel_size=(3, 3), stride=(1, 1), bias=False)\n",
       "        (4): Conv2d(8, 8, kernel_size=(3, 3), stride=(1, 1))\n",
       "      )\n",
       "    )\n",
       "    (2): Flatten()\n",
       "    (3): BatchNorm1d(5408, eps=1e-05, momentum=0.01, affine=True, track_running_stats=True)\n",
       "    (4): GaussianNoise(std=0.05, trainable=False, adapt=False, momentum=0.95)\n",
       "    (5): ReLU()\n",
       "  )\n",
       "  (ganglion): Sequential(\n",
       "    (0): Linear(in_features=5408, out_features=5, bias=False)\n",
       "    (1): BatchNorm1d(5, eps=1e-05, momentum=0.01, affine=True, track_running_stats=True)\n",
       "    (2): Softplus(beta=1, threshold=20)\n",
       "  )\n",
       ")"
      ]
     },
     "execution_count": 4,
     "metadata": {},
     "output_type": "execute_result"
    }
   ],
   "source": [
    "device = torch.device('cuda:0')\n",
    "cfg = get_custom_cfg('bn_cnn_stack')\n",
    "model = select_model(cfg, device)\n",
    "checkpoint_path = '/home/xhding/saved_model/BN_CNN_Stack/epoch_030_loss_-2.77_pearson_0.6291_eval_loss_-29.18.pth'\n",
    "checkpoint = torch.load(checkpoint_path, map_location=device)\n",
    "model.load_state_dict(checkpoint['model_state_dict'])\n",
    "model.eval()"
   ]
  },
  {
   "cell_type": "code",
   "execution_count": 5,
   "metadata": {},
   "outputs": [],
   "source": [
    "test_data = DataLoader(TestDataset(cfg), batch_size=512)\n",
    "test_pc, _, pred, targ = pearsonr_batch_eval(model, test_data, 5, device, cfg)"
   ]
  },
  {
   "cell_type": "code",
   "execution_count": 69,
   "metadata": {},
   "outputs": [],
   "source": [
    "with h5py.File('/home/TRAIN_DATA/15-10-07/naturalscene.h5', 'r') as f:\n",
    "    target = f['test']['response']['firing_rate_10ms'][:5, 40:]\n",
    "    single_trial = []\n",
    "    for cell in ['cell01', 'cell02', 'cell03', 'cell04', 'cell05']:\n",
    "        single_trial.append(f['test']['repeats'][cell])\n",
    "    single_trial = np.stack(single_trial)\n",
    "single_trial = np.swapaxes(single_trial,0,1)\n",
    "single_trial = np.swapaxes(single_trial,1,2)[:,40:5996,:]\n",
    "target = np.swapaxes(target,0,1)[:5956,:]"
   ]
  },
  {
   "cell_type": "code",
   "execution_count": 113,
   "metadata": {},
   "outputs": [
    {
     "name": "stdout",
     "output_type": "stream",
     "text": [
      "prediction correlation: \n",
      " [[1.         0.41812848 0.73764551 0.38638577 0.27139948]\n",
      " [0.41812848 1.         0.61320255 0.50394363 0.25504505]\n",
      " [0.73764551 0.61320255 1.         0.40785126 0.32236908]\n",
      " [0.38638577 0.50394363 0.40785126 1.         0.28694018]\n",
      " [0.27139948 0.25504505 0.32236908 0.28694018 1.        ]]\n",
      "trial-averaged correlation: \n",
      " [[1.         0.1924971  0.51967268 0.29261007 0.21739408]\n",
      " [0.1924971  1.         0.29852532 0.27960452 0.14421011]\n",
      " [0.51967268 0.29852532 1.         0.24257533 0.2031594 ]\n",
      " [0.29261007 0.27960452 0.24257533 1.         0.2817152 ]\n",
      " [0.21739408 0.14421011 0.2031594  0.2817152  1.        ]]\n",
      "single trial correlation: \n",
      " [[1.         0.12576394 0.34438281 0.21857622 0.17052613]\n",
      " [0.12576394 1.         0.16655423 0.17993999 0.09052665]\n",
      " [0.34438281 0.16655423 1.         0.13613422 0.11973504]\n",
      " [0.21857622 0.17993999 0.13613422 1.         0.21250219]\n",
      " [0.17052613 0.09052665 0.11973504 0.21250219 1.        ]]\n",
      "trial-averaged target prediction relative error:  0.296008870759893\n",
      "single trial target prediction relative error:  0.5717408143603652\n"
     ]
    },
    {
     "data": {
      "text/plain": [
       "Text(0.5, 1.0, 'single trial target')"
      ]
     },
     "execution_count": 113,
     "metadata": {},
     "output_type": "execute_result"
    },
    {
     "data": {
      "image/png": "[encoded data removed]",
      "text/plain": [
       "<Figure size 720x1080 with 3 Axes>"
      ]
     },
     "metadata": {
      "needs_background": "light"
     },
     "output_type": "display_data"
    }
   ],
   "source": [
    "pred_corr, targ_corr, single_corr = correlation_matrix(pred, target, single_trial, binary=False)\n",
    "print('prediction correlation: \\n', pred_corr)\n",
    "print('trial-averaged correlation: \\n', targ_corr)\n",
    "print('single trial correlation: \\n', single_corr)\n",
    "print('trial-averaged target prediction relative error: ', np.abs(targ_corr-pred_corr).sum()/targ_corr.sum())\n",
    "print('single trial target prediction relative error: ', np.abs(single_corr-pred_corr).sum()/single_corr.sum())\n",
    "fig,ax = plt.subplots(3,1,figsize=(10,15))\n",
    "diagonal_idxs = [0, 6, 12, 18, 24]\n",
    "ax[0].hist(np.delete(pred_corr.flatten(), diagonal_idxs), bins=20, range=[0,1])\n",
    "ax[0].set_title('prediction')\n",
    "ax[1].hist(np.delete(targ_corr.flatten(), diagonal_idxs), bins=20, range=[0,1])\n",
    "ax[1].set_title('trial-averaged target')\n",
    "ax[2].hist(np.delete(single_corr.flatten(), diagonal_idxs), bins=20, range=[0,1])\n",
    "ax[2].set_title('single trial target')"
   ]
  },
  {
   "cell_type": "code",
   "execution_count": 104,
   "metadata": {},
   "outputs": [
    {
     "name": "stdout",
     "output_type": "stream",
     "text": [
      "stimuli correlation: \n",
      " [[0.67177597 0.11595256 0.2977213  0.22079329 0.15485661]\n",
      " [0.11595256 0.35368846 0.13764053 0.16512185 0.08163705]\n",
      " [0.2977213  0.13764053 0.34117301 0.14615804 0.1148277 ]\n",
      " [0.22079329 0.16512185 0.14615804 0.68809142 0.20296255]\n",
      " [0.15485661 0.08163705 0.1148277  0.20296255 0.61850253]]\n",
      "noise correlation: \n",
      " [[ 0.32822403  0.00981137  0.04666152 -0.00221707  0.01566952]\n",
      " [ 0.00981137  0.64631154  0.0289137   0.01481814  0.0088896 ]\n",
      " [ 0.04666152  0.0289137   0.65882699 -0.01002382  0.00490734]\n",
      " [-0.00221707  0.01481814 -0.01002382  0.31190858  0.00953964]\n",
      " [ 0.01566952  0.0088896   0.00490734  0.00953964  0.38149747]]\n"
     ]
    }
   ],
   "source": [
    "stim_corr = stimuli_corr_matrix(5, 5, single_trial)\n",
    "noise_corr = single_corr - stim_corr\n",
    "print('stimuli correlation: \\n', stim_corr)\n",
    "print('noise correlation: \\n', noise_corr)"
   ]
  },
  {
   "cell_type": "code",
   "execution_count": 114,
   "metadata": {},
   "outputs": [
    {
     "name": "stdout",
     "output_type": "stream",
     "text": [
      "prediction correlation: \n",
      " [[1.         0.34802537 0.54183846 0.32344996 0.24188172]\n",
      " [0.34802537 1.         0.4560578  0.3699236  0.21249664]\n",
      " [0.54183846 0.4560578  1.         0.34138642 0.25178278]\n",
      " [0.32344996 0.3699236  0.34138642 1.         0.23190375]\n",
      " [0.24188172 0.21249664 0.25178278 0.23190375 1.        ]]\n",
      "trial-averaged correlation: \n",
      " [[1.         0.1924971  0.51967268 0.29261007 0.21739408]\n",
      " [0.1924971  1.         0.29852532 0.27960452 0.14421011]\n",
      " [0.51967268 0.29852532 1.         0.24257533 0.2031594 ]\n",
      " [0.29261007 0.27960452 0.24257533 1.         0.2817152 ]\n",
      " [0.21739408 0.14421011 0.2031594  0.2817152  1.        ]]\n",
      "single trial correlation: \n",
      " [[1.         0.12576394 0.34438281 0.21857622 0.17052613]\n",
      " [0.12576394 1.         0.16655423 0.17993999 0.09052665]\n",
      " [0.34438281 0.16655423 1.         0.13613422 0.11973504]\n",
      " [0.21857622 0.17993999 0.13613422 1.         0.21250219]\n",
      " [0.17052613 0.09052665 0.11973504 0.21250219 1.        ]]\n",
      "trial-averaged target prediction relative error:  0.14431763438414816\n",
      "single trial target prediction relative error:  0.36441635419032375\n"
     ]
    },
    {
     "data": {
      "text/plain": [
       "Text(0.5, 1.0, 'single trial target')"
      ]
     },
     "execution_count": 114,
     "metadata": {},
     "output_type": "execute_result"
    },
    {
     "data": {
      "image/png": "[encoded data removed]",
      "text/plain": [
       "<Figure size 720x1080 with 3 Axes>"
      ]
     },
     "metadata": {
      "needs_background": "light"
     },
     "output_type": "display_data"
    }
   ],
   "source": [
    "with torch.no_grad():\n",
    "    val_pred = []\n",
    "    val_targ = []\n",
    "    for x,y in test_data:\n",
    "        x = x.to(device)\n",
    "        out = model.bipolar(x)\n",
    "        out = model.amacrine(out)\n",
    "        out = torch.poisson(model.ganglion(out))\n",
    "        val_pred.append(out.detach().cpu().numpy())\n",
    "        val_targ.append(y.detach().numpy())\n",
    "    val_pred = np.concatenate(val_pred, axis=0)\n",
    "    val_targ = np.concatenate(val_targ, axis=0)\n",
    "#pred_corr, targ_corr = correlation_matrix(val_pred, val_targ, binary=True, thre=2)\n",
    "pred_corr, targ_corr, single_corr = correlation_matrix(val_pred, target, single_trial, binary=False)\n",
    "print('prediction correlation: \\n', pred_corr)\n",
    "print('trial-averaged correlation: \\n', targ_corr)\n",
    "print('single trial correlation: \\n', single_corr)\n",
    "print('trial-averaged target prediction relative error: ', np.abs(targ_corr-pred_corr).sum()/targ_corr.sum())\n",
    "print('single trial target prediction relative error: ', np.abs(single_corr-pred_corr).sum()/single_corr.sum())\n",
    "fig,ax = plt.subplots(3,1,figsize=(10,15))\n",
    "diagonal_idxs = [0, 6, 12, 18, 24]\n",
    "ax[0].hist(np.delete(pred_corr.flatten(), diagonal_idxs), bins=20, range=[0,1])\n",
    "ax[0].set_title('prediction')\n",
    "ax[1].hist(np.delete(targ_corr.flatten(), diagonal_idxs), bins=20, range=[0,1])\n",
    "ax[1].set_title('trial-averaged target')\n",
    "ax[2].hist(np.delete(single_corr.flatten(), diagonal_idxs), bins=20, range=[0,1])\n",
    "ax[2].set_title('single trial target')"
   ]
  },
  {
   "cell_type": "code",
   "execution_count": 115,
   "metadata": {},
   "outputs": [
    {
     "name": "stdout",
     "output_type": "stream",
     "text": [
      "prediction correlation: \n",
      " [[1.         0.09193404 0.24350074 0.09368775 0.04254497]\n",
      " [0.09193404 1.         0.14045836 0.09550816 0.03778656]\n",
      " [0.24350074 0.14045836 1.         0.08991315 0.04446602]\n",
      " [0.09368775 0.09550816 0.08991315 1.         0.10632073]\n",
      " [0.04254497 0.03778656 0.04446602 0.10632073 1.        ]]\n",
      "trial-averaged correlation: \n",
      " [[1.         0.1924971  0.51967268 0.29261007 0.21739408]\n",
      " [0.1924971  1.         0.29852532 0.27960452 0.14421011]\n",
      " [0.51967268 0.29852532 1.         0.24257533 0.2031594 ]\n",
      " [0.29261007 0.27960452 0.24257533 1.         0.2817152 ]\n",
      " [0.21739408 0.14421011 0.2031594  0.2817152  1.        ]]\n",
      "single trial correlation: \n",
      " [[1.         0.12576394 0.34438281 0.21857622 0.17052613]\n",
      " [0.12576394 1.         0.16655423 0.17993999 0.09052665]\n",
      " [0.34438281 0.16655423 1.         0.13613422 0.11973504]\n",
      " [0.21857622 0.17993999 0.13613422 1.         0.21250219]\n",
      " [0.17052613 0.09052665 0.11973504 0.21250219 1.        ]]\n",
      "trial-averaged target prediction relative error:  0.3259580691555595\n",
      "single trial target prediction relative error:  0.18255249852009042\n"
     ]
    },
    {
     "data": {
      "text/plain": [
       "Text(0.5, 1.0, 'single trial target')"
      ]
     },
     "execution_count": 115,
     "metadata": {},
     "output_type": "execute_result"
    },
    {
     "data": {
      "image/png": "[encoded data removed]",
      "text/plain": [
       "<Figure size 720x1080 with 3 Axes>"
      ]
     },
     "metadata": {
      "needs_background": "light"
     },
     "output_type": "display_data"
    }
   ],
   "source": [
    "with torch.no_grad():\n",
    "    val_pred = []\n",
    "    val_targ = []\n",
    "    for x,y in test_data:\n",
    "        x = x.to(device)\n",
    "        out = torch.poisson(model.bipolar(x))\n",
    "        out = torch.poisson(model.amacrine(out))\n",
    "        out = torch.poisson(model.ganglion(out))\n",
    "        val_pred.append(out.detach().cpu().numpy())\n",
    "        val_targ.append(y.detach().numpy())\n",
    "    val_pred = np.concatenate(val_pred, axis=0)\n",
    "    val_targ = np.concatenate(val_targ, axis=0)\n",
    "#pred_corr, targ_corr = correlation_matrix(val_pred, val_targ, binary=True, thre=2)\n",
    "pred_corr, targ_corr, single_corr = correlation_matrix(val_pred, target, single_trial, binary=False)\n",
    "print('prediction correlation: \\n', pred_corr)\n",
    "print('trial-averaged correlation: \\n', targ_corr)\n",
    "print('single trial correlation: \\n', single_corr)\n",
    "print('trial-averaged target prediction relative error: ', np.abs(targ_corr-pred_corr).sum()/targ_corr.sum())\n",
    "print('single trial target prediction relative error: ', np.abs(single_corr-pred_corr).sum()/single_corr.sum())\n",
    "fig,ax = plt.subplots(3,1,figsize=(10,15))\n",
    "diagonal_idxs = [0, 6, 12, 18, 24]\n",
    "ax[0].hist(np.delete(pred_corr.flatten(), diagonal_idxs), bins=20, range=[0,1])\n",
    "ax[0].set_title('prediction')\n",
    "ax[1].hist(np.delete(targ_corr.flatten(), diagonal_idxs), bins=20, range=[0,1])\n",
    "ax[1].set_title('trial-averaged target')\n",
    "ax[2].hist(np.delete(single_corr.flatten(), diagonal_idxs), bins=20, range=[0,1])\n",
    "ax[2].set_title('single trial target')"
   ]
  },
  {
   "cell_type": "code",
   "execution_count": 123,
   "metadata": {},
   "outputs": [
    {
     "name": "stdout",
     "output_type": "stream",
     "text": [
      "trial-averged vs prediction: 0.21228164087716733\n"
     ]
    }
   ],
   "source": [
    "pearsons = []\n",
    "for cell in range(5):\n",
    "    pearsons.append(pearsonr(val_pred[:,cell],target[:,cell])[0])\n",
    "print('trial-averged vs prediction:', np.array(pearsons).mean())"
   ]
  },
  {
   "cell_type": "code",
   "execution_count": 125,
   "metadata": {},
   "outputs": [
    {
     "name": "stdout",
     "output_type": "stream",
     "text": [
      "trial-averged vs single-trial: 0.7875977724261742\n"
     ]
    }
   ],
   "source": [
    "mean_r = []\n",
    "for trial in range(5):\n",
    "    pearsons = []\n",
    "    for cell in range(5):\n",
    "        pearsons.append(pearsonr(single_trial[trial,:,cell],target[:,cell])[0])\n",
    "    mean_r.append(np.array(pearsons).mean())\n",
    "print('trial-averged vs single-trial:', np.array(mean_r).mean())"
   ]
  },
  {
   "cell_type": "code",
   "execution_count": 126,
   "metadata": {},
   "outputs": [
    {
     "name": "stdout",
     "output_type": "stream",
     "text": [
      "single-trial vs prediction: 0.1720378012537985\n"
     ]
    }
   ],
   "source": [
    "mean_r = []\n",
    "for trial in range(5):\n",
    "    pearsons = []\n",
    "    for cell in range(5):\n",
    "        pearsons.append(pearsonr(single_trial[trial,:,cell],val_pred[:,cell])[0])\n",
    "    mean_r.append(np.array(pearsons).mean())\n",
    "print('single-trial vs prediction:', np.array(mean_r).mean())"
   ]
  },
  {
   "cell_type": "code",
   "execution_count": null,
   "metadata": {},
   "outputs": [],
   "source": []
  }
 ],
 "metadata": {
  "kernelspec": {
   "display_name": "Python 3",
   "language": "python",
   "name": "python3"
  },
  "language_info": {
   "codemirror_mode": {
    "name": "ipython",
    "version": 3
   },
   "file_extension": ".py",
   "mimetype": "text/x-python",
   "name": "python",
   "nbconvert_exporter": "python",
   "pygments_lexer": "ipython3",
   "version": "3.6.9"
  }
 },
 "nbformat": 4,
 "nbformat_minor": 4
}
