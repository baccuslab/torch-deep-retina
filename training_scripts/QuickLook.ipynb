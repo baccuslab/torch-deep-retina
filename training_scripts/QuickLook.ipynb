{
 "cells": [
  {
   "cell_type": "code",
   "execution_count": 1,
   "metadata": {},
   "outputs": [],
   "source": [
    "import pandas as pd\n",
    "import numpy as np\n",
    "import sys\n",
    "import os\n",
    "import matplotlib.pyplot as plt"
   ]
  },
  {
   "cell_type": "code",
   "execution_count": 2,
   "metadata": {},
   "outputs": [
    {
     "name": "stdout",
     "output_type": "stream",
     "text": [
      "/home/grantsrb/src/torch-deep-retina/training_scripts\n"
     ]
    }
   ],
   "source": [
    "!pwd"
   ]
  },
  {
   "cell_type": "code",
   "execution_count": 3,
   "metadata": {},
   "outputs": [],
   "source": [
    "frame = pd.read_csv(\"skipamacrnn/model_data.csv\", delimiter=\"!\")"
   ]
  },
  {
   "cell_type": "code",
   "execution_count": 4,
   "metadata": {},
   "outputs": [
    {
     "data": {
      "text/plain": [
       "Index(['chans', 'final_loss', 'save_folder', 'shuffle', 'horizontal_intr_cor',\n",
       "       'stim_type', 'n_epochs', 'mean_intr', 'softplus', 'train_loss',\n",
       "       'lossfxn', 'ksizes', 'bnorm_momentum', 'rnn_chans', 'bias',\n",
       "       'recur_seq_len', 'skip_nums', 'test_acc', 'lr', 'stackconvs',\n",
       "       'log_poisson', 'val_acc', 'min_intr', 'model_type', 'final_val', 'l1',\n",
       "       'rnn_type', 'architecture', 'avg_oms_ratio', 'linear_bias',\n",
       "       'results_file', 'amacrine_intr_cor', 'bipolar_intr_cor',\n",
       "       'noexp_test_acc', 'starting_exp_num', 'drop_p', 'cells', 'exp_name',\n",
       "       'val_loss', 'std_oms_ratio', 'max_intr', 'inference_exp', 'l2', 'bnorm',\n",
       "       'dataset', 'poor_results', 'img_shape', 'exp_num', 'batch_size',\n",
       "       'noise'],\n",
       "      dtype='object')"
      ]
     },
     "execution_count": 4,
     "metadata": {},
     "output_type": "execute_result"
    }
   ],
   "source": [
    "frame.columns"
   ]
  },
  {
   "cell_type": "code",
   "execution_count": 5,
   "metadata": {},
   "outputs": [],
   "source": [
    "best_acc = [max(f,o) for f,o in zip(frame['test_acc'], frame['noexp_test_acc'])]"
   ]
  },
  {
   "cell_type": "code",
   "execution_count": 6,
   "metadata": {},
   "outputs": [],
   "source": [
    "frame['best_acc'] = best_acc"
   ]
  },
  {
   "cell_type": "code",
   "execution_count": 12,
   "metadata": {},
   "outputs": [],
   "source": [
    "cols = [\"exp_name\", \"exp_num\", \"dataset\",\"stim_type\", \"bnorm\", \"chans\", \"lr\", \"l1\", \"l2\", \"noise\", 'batch_size', \"bnorm_momentum\", 'val_acc', 'best_acc','test_acc', 'mean_intr', 'bipolar_intr_cor', 'amacrine_intr_cor', 'horizontal_intr_cor', 'save_folder']"
   ]
  },
  {
   "cell_type": "code",
   "execution_count": 13,
   "metadata": {},
   "outputs": [
    {
     "data": {
      "text/html": [
       "<div>\n",
       "<style scoped>\n",
       "    .dataframe tbody tr th:only-of-type {\n",
       "        vertical-align: middle;\n",
       "    }\n",
       "\n",
       "    .dataframe tbody tr th {\n",
       "        vertical-align: top;\n",
       "    }\n",
       "\n",
       "    .dataframe thead th {\n",
       "        text-align: right;\n",
       "    }\n",
       "</style>\n",
       "<table border=\"1\" class=\"dataframe\">\n",
       "  <thead>\n",
       "    <tr style=\"text-align: right;\">\n",
       "      <th></th>\n",
       "      <th>exp_name</th>\n",
       "      <th>exp_num</th>\n",
       "      <th>dataset</th>\n",
       "      <th>stim_type</th>\n",
       "      <th>bnorm</th>\n",
       "      <th>chans</th>\n",
       "      <th>lr</th>\n",
       "      <th>l1</th>\n",
       "      <th>l2</th>\n",
       "      <th>noise</th>\n",
       "      <th>batch_size</th>\n",
       "      <th>bnorm_momentum</th>\n",
       "      <th>val_acc</th>\n",
       "      <th>best_acc</th>\n",
       "      <th>test_acc</th>\n",
       "      <th>mean_intr</th>\n",
       "      <th>bipolar_intr_cor</th>\n",
       "      <th>amacrine_intr_cor</th>\n",
       "      <th>horizontal_intr_cor</th>\n",
       "      <th>save_folder</th>\n",
       "    </tr>\n",
       "  </thead>\n",
       "  <tbody>\n",
       "    <tr>\n",
       "      <th>4</th>\n",
       "      <td>skipamacrnn</td>\n",
       "      <td>7</td>\n",
       "      <td>15-10-07</td>\n",
       "      <td>naturalscene</td>\n",
       "      <td>True</td>\n",
       "      <td>[8, 8]</td>\n",
       "      <td>0.0050</td>\n",
       "      <td>0.0001</td>\n",
       "      <td>0.001</td>\n",
       "      <td>0.05</td>\n",
       "      <td>512</td>\n",
       "      <td>0.01</td>\n",
       "      <td>0.650778</td>\n",
       "      <td>0.726671</td>\n",
       "      <td>0.726671</td>\n",
       "      <td>0.403884</td>\n",
       "      <td>0.383543</td>\n",
       "      <td>0.468962</td>\n",
       "      <td>0.224473</td>\n",
       "      <td>skipamacrnn/skipamacrnn_7_lr0.005</td>\n",
       "    </tr>\n",
       "    <tr>\n",
       "      <th>2</th>\n",
       "      <td>skipamacrnn</td>\n",
       "      <td>4</td>\n",
       "      <td>15-10-07</td>\n",
       "      <td>naturalscene</td>\n",
       "      <td>False</td>\n",
       "      <td>[8, 8]</td>\n",
       "      <td>0.0050</td>\n",
       "      <td>0.0001</td>\n",
       "      <td>0.001</td>\n",
       "      <td>0.05</td>\n",
       "      <td>512</td>\n",
       "      <td>0.01</td>\n",
       "      <td>0.644708</td>\n",
       "      <td>0.710628</td>\n",
       "      <td>0.710628</td>\n",
       "      <td>0.370806</td>\n",
       "      <td>0.326271</td>\n",
       "      <td>0.436990</td>\n",
       "      <td>0.206891</td>\n",
       "      <td>skipamacrnn/skipamacrnn_4_lr0.005</td>\n",
       "    </tr>\n",
       "    <tr>\n",
       "      <th>3</th>\n",
       "      <td>skipamacrnn</td>\n",
       "      <td>5</td>\n",
       "      <td>15-10-07</td>\n",
       "      <td>naturalscene</td>\n",
       "      <td>True</td>\n",
       "      <td>[8, 8]</td>\n",
       "      <td>0.0005</td>\n",
       "      <td>0.0001</td>\n",
       "      <td>0.001</td>\n",
       "      <td>0.05</td>\n",
       "      <td>512</td>\n",
       "      <td>0.01</td>\n",
       "      <td>0.562804</td>\n",
       "      <td>0.624381</td>\n",
       "      <td>0.624381</td>\n",
       "      <td>0.374460</td>\n",
       "      <td>0.345550</td>\n",
       "      <td>0.439345</td>\n",
       "      <td>0.202292</td>\n",
       "      <td>skipamacrnn/skipamacrnn_5_lr0.0005</td>\n",
       "    </tr>\n",
       "    <tr>\n",
       "      <th>0</th>\n",
       "      <td>skipamacrnn</td>\n",
       "      <td>0</td>\n",
       "      <td>15-10-07</td>\n",
       "      <td>naturalscene</td>\n",
       "      <td>True</td>\n",
       "      <td>[8, 8]</td>\n",
       "      <td>0.0050</td>\n",
       "      <td>0.0001</td>\n",
       "      <td>0.001</td>\n",
       "      <td>0.10</td>\n",
       "      <td>512</td>\n",
       "      <td>0.01</td>\n",
       "      <td>0.654317</td>\n",
       "      <td>0.574544</td>\n",
       "      <td>0.574544</td>\n",
       "      <td>0.357567</td>\n",
       "      <td>0.307963</td>\n",
       "      <td>0.422511</td>\n",
       "      <td>0.201316</td>\n",
       "      <td>skipamacrnn/skipamacrnn_0_lr0.005</td>\n",
       "    </tr>\n",
       "    <tr>\n",
       "      <th>1</th>\n",
       "      <td>skipamacrnn</td>\n",
       "      <td>1</td>\n",
       "      <td>15-10-07</td>\n",
       "      <td>naturalscene</td>\n",
       "      <td>True</td>\n",
       "      <td>[8, 8]</td>\n",
       "      <td>0.0005</td>\n",
       "      <td>0.0001</td>\n",
       "      <td>0.001</td>\n",
       "      <td>0.10</td>\n",
       "      <td>512</td>\n",
       "      <td>0.01</td>\n",
       "      <td>0.515636</td>\n",
       "      <td>0.398415</td>\n",
       "      <td>0.398415</td>\n",
       "      <td>NaN</td>\n",
       "      <td>NaN</td>\n",
       "      <td>NaN</td>\n",
       "      <td>NaN</td>\n",
       "      <td>skipamacrnn/skipamacrnn_1_lr0.0005</td>\n",
       "    </tr>\n",
       "  </tbody>\n",
       "</table>\n",
       "</div>"
      ],
      "text/plain": [
       "      exp_name  exp_num   dataset     stim_type  bnorm   chans      lr  \\\n",
       "4  skipamacrnn        7  15-10-07  naturalscene   True  [8, 8]  0.0050   \n",
       "2  skipamacrnn        4  15-10-07  naturalscene  False  [8, 8]  0.0050   \n",
       "3  skipamacrnn        5  15-10-07  naturalscene   True  [8, 8]  0.0005   \n",
       "0  skipamacrnn        0  15-10-07  naturalscene   True  [8, 8]  0.0050   \n",
       "1  skipamacrnn        1  15-10-07  naturalscene   True  [8, 8]  0.0005   \n",
       "\n",
       "       l1     l2  noise  batch_size  bnorm_momentum   val_acc  best_acc  \\\n",
       "4  0.0001  0.001   0.05         512            0.01  0.650778  0.726671   \n",
       "2  0.0001  0.001   0.05         512            0.01  0.644708  0.710628   \n",
       "3  0.0001  0.001   0.05         512            0.01  0.562804  0.624381   \n",
       "0  0.0001  0.001   0.10         512            0.01  0.654317  0.574544   \n",
       "1  0.0001  0.001   0.10         512            0.01  0.515636  0.398415   \n",
       "\n",
       "   test_acc  mean_intr  bipolar_intr_cor  amacrine_intr_cor  \\\n",
       "4  0.726671   0.403884          0.383543           0.468962   \n",
       "2  0.710628   0.370806          0.326271           0.436990   \n",
       "3  0.624381   0.374460          0.345550           0.439345   \n",
       "0  0.574544   0.357567          0.307963           0.422511   \n",
       "1  0.398415        NaN               NaN                NaN   \n",
       "\n",
       "   horizontal_intr_cor                         save_folder  \n",
       "4             0.224473   skipamacrnn/skipamacrnn_7_lr0.005  \n",
       "2             0.206891   skipamacrnn/skipamacrnn_4_lr0.005  \n",
       "3             0.202292  skipamacrnn/skipamacrnn_5_lr0.0005  \n",
       "0             0.201316   skipamacrnn/skipamacrnn_0_lr0.005  \n",
       "1                  NaN  skipamacrnn/skipamacrnn_1_lr0.0005  "
      ]
     },
     "execution_count": 13,
     "metadata": {},
     "output_type": "execute_result"
    }
   ],
   "source": [
    "frame.loc[:,cols].sort_values(by=\"best_acc\", ascending=False)"
   ]
  },
  {
   "cell_type": "code",
   "execution_count": 9,
   "metadata": {},
   "outputs": [],
   "source": [
    "datasets = list(set(frame['dataset']))"
   ]
  },
  {
   "cell_type": "markdown",
   "metadata": {},
   "source": [
    "#### LR"
   ]
  },
  {
   "cell_type": "code",
   "execution_count": 12,
   "metadata": {},
   "outputs": [
    {
     "name": "stdout",
     "output_type": "stream",
     "text": [
      "[0.001, 0.01, 0.0005, 0.0075, 0.005, 0.0001, 0.00075, 0.00025]\n",
      "[0.0001, 0.00025, 0.0005, 0.00075, 0.001, 0.005, 0.0075, 0.01]\n"
     ]
    }
   ],
   "source": [
    "key = \"lr\"\n",
    "vals = list(set(frame[key]))\n",
    "print(vals)\n",
    "vals = sorted([float(l) for l in vals])\n",
    "print(vals)"
   ]
  },
  {
   "cell_type": "code",
   "execution_count": 13,
   "metadata": {
    "scrolled": true
   },
   "outputs": [
    {
     "name": "stdout",
     "output_type": "stream",
     "text": [
      "Dataset: 15-11-21a\n",
      "Intr: 0.5398819259300415\n",
      "bipolar: 0.4983767518643799\n",
      "amacrine: 0.6002308872372271\n",
      "Acc: 0.7732180571622387\n",
      "\n",
      "lr: 0.0001\n",
      "Intr: 0.48316013019555504\n",
      "bipolar: 0.46376595796002623\n",
      "amacrine: 0.543075132996957\n",
      "Acc: 0.7474571009922165\n",
      "\n",
      "lr: 0.00025\n",
      "Intr: 0.5212514411734656\n",
      "bipolar: 0.5046787991514401\n",
      "amacrine: 0.5881481827185528\n",
      "Acc: 0.7498849339241622\n",
      "\n",
      "lr: 0.0005\n",
      "Intr: 0.5051608072530103\n",
      "bipolar: 0.499491452961809\n",
      "amacrine: 0.5664470537898335\n",
      "Acc: 0.7604247220693519\n",
      "\n",
      "lr: 0.00075\n",
      "Intr: 0.5122002648874848\n",
      "bipolar: 0.4973251250921322\n",
      "amacrine: 0.5757664308688785\n",
      "Acc: 0.7739873517666082\n",
      "\n",
      "lr: 0.001\n",
      "Intr: 0.4921484549365006\n",
      "bipolar: 0.471747496060365\n",
      "amacrine: 0.559042963307441\n",
      "Acc: 0.7674972856340941\n",
      "\n",
      "lr: 0.005\n",
      "Intr: 0.4901459810122059\n",
      "bipolar: 0.4681214376593208\n",
      "amacrine: 0.5532553217106717\n",
      "Acc: 0.76914149266852\n",
      "\n",
      "lr: 0.0075\n",
      "Intr: nan\n",
      "bipolar: nan\n",
      "amacrine: nan\n",
      "Acc: nan\n",
      "\n",
      "lr: 0.01\n",
      "Intr: 0.4916044542203932\n",
      "bipolar: 0.4731674918746009\n",
      "amacrine: 0.5577028313303415\n",
      "Acc: 0.7631979572001153\n",
      "\n",
      "\n",
      "\n",
      "Dataset: 15-11-21b\n",
      "Intr: 0.5122050981829235\n",
      "bipolar: 0.4648167558105865\n",
      "amacrine: 0.5708461186734438\n",
      "Acc: 0.6610272837010468\n",
      "\n",
      "lr: 0.0001\n",
      "Intr: 0.42882758925538916\n",
      "bipolar: 0.40354248988699837\n",
      "amacrine: 0.49203381803576174\n",
      "Acc: 0.6188363928397135\n",
      "\n",
      "lr: 0.00025\n",
      "Intr: 0.4879404089031933\n",
      "bipolar: 0.4794328260548145\n",
      "amacrine: 0.549425250905341\n",
      "Acc: 0.6133564903447398\n",
      "\n",
      "lr: 0.0005\n",
      "Intr: 0.43853925385819276\n",
      "bipolar: 0.41130961442553887\n",
      "amacrine: 0.50001518462446\n",
      "Acc: 0.615238919461567\n",
      "\n",
      "lr: 0.00075\n",
      "Intr: 0.42867199830597297\n",
      "bipolar: 0.3993217398139008\n",
      "amacrine: 0.4931097114732082\n",
      "Acc: 0.6270976287364238\n",
      "\n",
      "lr: 0.001\n",
      "Intr: 0.4336079635492381\n",
      "bipolar: 0.41060324387115205\n",
      "amacrine: 0.495432999605606\n",
      "Acc: 0.6377097298032885\n",
      "\n",
      "lr: 0.005\n",
      "Intr: 0.4278856469222574\n",
      "bipolar: 0.3885905145162601\n",
      "amacrine: 0.4973550993363855\n",
      "Acc: 0.6386847357952453\n",
      "\n",
      "lr: 0.0075\n",
      "Intr: nan\n",
      "bipolar: nan\n",
      "amacrine: nan\n",
      "Acc: nan\n",
      "\n",
      "lr: 0.01\n",
      "Intr: 0.4423416498444265\n",
      "bipolar: 0.4259911691627845\n",
      "amacrine: 0.5034189224216753\n",
      "Acc: 0.6373192650859494\n",
      "\n",
      "\n",
      "\n",
      "Dataset: 15-10-07\n",
      "Intr: 0.3882708946138798\n",
      "bipolar: 0.3776691927964024\n",
      "amacrine: 0.43042715263151016\n",
      "Acc: 0.7176220128495391\n",
      "\n",
      "lr: 0.0001\n",
      "Intr: 0.3299820145236319\n",
      "bipolar: 0.27243008016805464\n",
      "amacrine: 0.3930069802266394\n",
      "Acc: 0.7250920067012565\n",
      "\n",
      "lr: 0.00025\n",
      "Intr: 0.3649837943586242\n",
      "bipolar: 0.31413223032569826\n",
      "amacrine: 0.42420265429086307\n",
      "Acc: 0.7137088239710943\n",
      "\n",
      "lr: 0.0005\n",
      "Intr: 0.35363066708003627\n",
      "bipolar: 0.30725752095855596\n",
      "amacrine: 0.41219438564324623\n",
      "Acc: 0.727409256404127\n",
      "\n",
      "lr: 0.00075\n",
      "Intr: 0.371019186982404\n",
      "bipolar: 0.30635671352640526\n",
      "amacrine: 0.43392931605059915\n",
      "Acc: 0.7041024099044144\n",
      "\n",
      "lr: 0.001\n",
      "Intr: 0.34219587892164727\n",
      "bipolar: 0.3049229738087192\n",
      "amacrine: 0.3878930451608077\n",
      "Acc: 0.7214126348621294\n",
      "\n",
      "lr: 0.005\n",
      "Intr: 0.2763491837355861\n",
      "bipolar: 0.2570306677588167\n",
      "amacrine: 0.3120757236184364\n",
      "Acc: 0.7287247201864109\n",
      "\n",
      "lr: 0.0075\n",
      "Intr: 0.3993119553832988\n",
      "bipolar: 0.3173372283620482\n",
      "amacrine: 0.4237286989584952\n",
      "Acc: 0.719860477801564\n",
      "\n",
      "lr: 0.01\n",
      "Intr: 0.2865603482421757\n",
      "bipolar: 0.270344305353327\n",
      "amacrine: 0.3283894618626479\n",
      "Acc: 0.7198445666278189\n",
      "\n",
      "\n",
      "\n"
     ]
    }
   ],
   "source": [
    "for dataset in datasets:\n",
    "    print(\"Dataset:\", dataset)\n",
    "    print(\"Intr:\", np.mean(drone.loc[(drone['dataset']==dataset) & (drone['stim_type']==\"naturalscene\"),\"Meanintracellular\"].dropna()))\n",
    "    print(\"bipolar:\", np.mean(drone.loc[(drone['dataset']==dataset) & (drone['stim_type']==\"naturalscene\"),\"bipolar_intr_cor\"].dropna()))\n",
    "    print(\"amacrine:\", np.mean(drone.loc[(drone['dataset']==dataset) & (drone['stim_type']==\"naturalscene\"),\"amacrine_intr_cor\"].dropna()))\n",
    "    print(\"Acc:\", np.mean(drone.loc[(drone['dataset']==dataset) & (drone['stim_type']==\"naturalscene\"),\"best_acc\"].dropna()))    \n",
    "    print()\n",
    "    for val in vals:\n",
    "        print(key+\":\", val)\n",
    "        print(\"Intr:\", np.mean(frame.loc[(frame['dataset']==dataset) & (frame[key]==val),\"Meanintracellular\"].dropna()))\n",
    "        print(\"bipolar:\", np.mean(frame.loc[(frame['dataset']==dataset) & (frame[key]==val),\"bipolar_intr_cor\"].dropna()))\n",
    "        print(\"amacrine:\", np.mean(frame.loc[(frame['dataset']==dataset) & (frame[key]==val),\"amacrine_intr_cor\"].dropna()))\n",
    "        print(\"Acc:\", np.mean(frame.loc[(frame['dataset']==dataset) & (frame[key]==val),\"best_acc\"].dropna()))    \n",
    "        print()\n",
    "    print()\n",
    "    print()"
   ]
  },
  {
   "cell_type": "markdown",
   "metadata": {},
   "source": [
    "#### L1"
   ]
  },
  {
   "cell_type": "code",
   "execution_count": 15,
   "metadata": {},
   "outputs": [
    {
     "name": "stdout",
     "output_type": "stream",
     "text": [
      "[0.0001, 0.001]\n",
      "[0.0001, 0.001]\n"
     ]
    }
   ],
   "source": [
    "key = \"l1\"\n",
    "vals = list(set(frame[key]))\n",
    "print(vals)\n",
    "vals = [float(x) for x in sorted([float(l) for l in vals])]\n",
    "print(vals)"
   ]
  },
  {
   "cell_type": "code",
   "execution_count": 16,
   "metadata": {
    "scrolled": true
   },
   "outputs": [
    {
     "name": "stdout",
     "output_type": "stream",
     "text": [
      "Dataset: 15-11-21a\n",
      "Intr: 0.5398819259300415\n",
      "bipolar: 0.4983767518643799\n",
      "amacrine: 0.6002308872372271\n",
      "Acc: 0.7732180571622387\n",
      "\n",
      "l1: 0.0001\n",
      "Intr: 0.4906789940032217\n",
      "bipolar: 0.4692790948462911\n",
      "amacrine: 0.5567122667561405\n",
      "Acc: 0.7743237888310115\n",
      "\n",
      "l1: 0.001\n",
      "Intr: 0.5024380591015998\n",
      "bipolar: 0.4878667492873077\n",
      "amacrine: 0.5655725505884867\n",
      "Acc: 0.7577239099549092\n",
      "\n",
      "\n",
      "\n",
      "Dataset: 15-11-21b\n",
      "Intr: 0.5122050981829235\n",
      "bipolar: 0.4648167558105865\n",
      "amacrine: 0.5708461186734438\n",
      "Acc: 0.6610272837010468\n",
      "\n",
      "l1: 0.0001\n",
      "Intr: 0.4226796948266309\n",
      "bipolar: 0.39116610990468964\n",
      "amacrine: 0.48818041191454187\n",
      "Acc: 0.6469025858040122\n",
      "\n",
      "l1: 0.001\n",
      "Intr: 0.4444567472093972\n",
      "bipolar: 0.4225936464641414\n",
      "amacrine: 0.506470078210253\n",
      "Acc: 0.6191895677446841\n",
      "\n",
      "\n",
      "\n",
      "Dataset: 15-10-07\n",
      "Intr: 0.3882708946138798\n",
      "bipolar: 0.3776691927964024\n",
      "amacrine: 0.43042715263151016\n",
      "Acc: 0.7176220128495391\n",
      "\n",
      "l1: 0.0001\n",
      "Intr: 0.32221113726648354\n",
      "bipolar: 0.284846147667689\n",
      "amacrine: 0.3607960852238591\n",
      "Acc: 0.7261324499357302\n",
      "\n",
      "l1: 0.001\n",
      "Intr: 0.3529185372459287\n",
      "bipolar: 0.30271917641285806\n",
      "amacrine: 0.4092868985211096\n",
      "Acc: 0.7181320628906085\n",
      "\n",
      "\n",
      "\n"
     ]
    }
   ],
   "source": [
    "for dataset in datasets:\n",
    "    print(\"Dataset:\", dataset)\n",
    "    print(\"Intr:\", np.mean(drone.loc[(drone['dataset']==dataset) & (drone['stim_type']==\"naturalscene\"),\"Meanintracellular\"].dropna()))\n",
    "    print(\"bipolar:\", np.mean(drone.loc[(drone['dataset']==dataset) & (drone['stim_type']==\"naturalscene\"),\"bipolar_intr_cor\"].dropna()))\n",
    "    print(\"amacrine:\", np.mean(drone.loc[(drone['dataset']==dataset) & (drone['stim_type']==\"naturalscene\"),\"amacrine_intr_cor\"].dropna()))\n",
    "    print(\"Acc:\", np.mean(drone.loc[(drone['dataset']==dataset) & (drone['stim_type']==\"naturalscene\"),\"best_acc\"].dropna()))    \n",
    "    print()\n",
    "    for val in vals:\n",
    "        print(key+\":\", val)\n",
    "        print(\"Intr:\", np.mean(frame.loc[(frame['dataset']==dataset) & (frame[key]==val),\"Meanintracellular\"].dropna()))\n",
    "        print(\"bipolar:\", np.mean(frame.loc[(frame['dataset']==dataset) & (frame[key]==val),\"bipolar_intr_cor\"].dropna()))\n",
    "        print(\"amacrine:\", np.mean(frame.loc[(frame['dataset']==dataset) & (frame[key]==val),\"amacrine_intr_cor\"].dropna()))\n",
    "        print(\"Acc:\", np.mean(frame.loc[(frame['dataset']==dataset) & (frame[key]==val),\"best_acc\"].dropna()))    \n",
    "        print()\n",
    "    print()\n",
    "    print()"
   ]
  },
  {
   "cell_type": "markdown",
   "metadata": {},
   "source": [
    "#### L2"
   ]
  },
  {
   "cell_type": "code",
   "execution_count": 18,
   "metadata": {},
   "outputs": [
    {
     "name": "stdout",
     "output_type": "stream",
     "text": [
      "[0.01, 0.005]\n",
      "[0.005, 0.01]\n"
     ]
    }
   ],
   "source": [
    "key = \"l2\"\n",
    "vals = list(set(frame[key]))\n",
    "print(vals)\n",
    "vals = [float(x) for x in sorted([float(l) for l in vals])]\n",
    "print(vals)"
   ]
  },
  {
   "cell_type": "code",
   "execution_count": 19,
   "metadata": {
    "scrolled": true
   },
   "outputs": [
    {
     "name": "stdout",
     "output_type": "stream",
     "text": [
      "Dataset: 15-11-21a\n",
      "Intr: 0.5398819259300415\n",
      "bipolar: 0.4983767518643799\n",
      "amacrine: 0.6002308872372271\n",
      "Acc: 0.7732180571622387\n",
      "\n",
      "l2: 0.005\n",
      "Intr: 0.4546865673978721\n",
      "bipolar: 0.4322019391833218\n",
      "amacrine: 0.5156237652000616\n",
      "Acc: 0.7613142668867264\n",
      "\n",
      "l2: 0.01\n",
      "Intr: 0.5093107887242906\n",
      "bipolar: 0.4944841644692999\n",
      "amacrine: 0.5737443520767646\n",
      "Acc: 0.7616973702912633\n",
      "\n",
      "\n",
      "\n",
      "Dataset: 15-11-21b\n",
      "Intr: 0.5122050981829235\n",
      "bipolar: 0.4648167558105865\n",
      "amacrine: 0.5708461186734438\n",
      "Acc: 0.6610272837010468\n",
      "\n",
      "l2: 0.005\n",
      "Intr: 0.38561380399172124\n",
      "bipolar: 0.36618301230492506\n",
      "amacrine: 0.44306521187877707\n",
      "Acc: 0.6383754671072697\n",
      "\n",
      "l2: 0.01\n",
      "Intr: 0.4508439343609659\n",
      "bipolar: 0.42570234333841583\n",
      "amacrine: 0.5148312163396518\n",
      "Acc: 0.6229963087553667\n",
      "\n",
      "\n",
      "\n",
      "Dataset: 15-10-07\n",
      "Intr: 0.3882708946138798\n",
      "bipolar: 0.3776691927964024\n",
      "amacrine: 0.43042715263151016\n",
      "Acc: 0.7176220128495391\n",
      "\n",
      "l2: 0.005\n",
      "Intr: 0.32841791671414766\n",
      "bipolar: 0.2912330645001071\n",
      "amacrine: 0.383075440695908\n",
      "Acc: 0.7375657295619732\n",
      "\n",
      "l2: 0.01\n",
      "Intr: 0.3491240958365104\n",
      "bipolar: 0.29987042416344084\n",
      "amacrine: 0.4004154462354637\n",
      "Acc: 0.7161090281341772\n",
      "\n",
      "\n",
      "\n"
     ]
    }
   ],
   "source": [
    "for dataset in datasets:\n",
    "    print(\"Dataset:\", dataset)\n",
    "    print(\"Intr:\", np.mean(drone.loc[(drone['dataset']==dataset) & (drone['stim_type']==\"naturalscene\"),\"Meanintracellular\"].dropna()))\n",
    "    print(\"bipolar:\", np.mean(drone.loc[(drone['dataset']==dataset) & (drone['stim_type']==\"naturalscene\"),\"bipolar_intr_cor\"].dropna()))\n",
    "    print(\"amacrine:\", np.mean(drone.loc[(drone['dataset']==dataset) & (drone['stim_type']==\"naturalscene\"),\"amacrine_intr_cor\"].dropna()))\n",
    "    print(\"Acc:\", np.mean(drone.loc[(drone['dataset']==dataset) & (drone['stim_type']==\"naturalscene\"),\"best_acc\"].dropna()))    \n",
    "    print()\n",
    "    for val in vals:\n",
    "        print(key+\":\", val)\n",
    "        print(\"Intr:\", np.mean(frame.loc[(frame['dataset']==dataset) & (frame[key]==val),\"Meanintracellular\"].dropna()))\n",
    "        print(\"bipolar:\", np.mean(frame.loc[(frame['dataset']==dataset) & (frame[key]==val),\"bipolar_intr_cor\"].dropna()))\n",
    "        print(\"amacrine:\", np.mean(frame.loc[(frame['dataset']==dataset) & (frame[key]==val),\"amacrine_intr_cor\"].dropna()))\n",
    "        print(\"Acc:\", np.mean(frame.loc[(frame['dataset']==dataset) & (frame[key]==val),\"best_acc\"].dropna()))    \n",
    "        print()\n",
    "    print()\n",
    "    print()"
   ]
  },
  {
   "cell_type": "markdown",
   "metadata": {},
   "source": [
    "#### Noise"
   ]
  },
  {
   "cell_type": "code",
   "execution_count": 20,
   "metadata": {},
   "outputs": [
    {
     "name": "stdout",
     "output_type": "stream",
     "text": [
      "[0.1, 0.05]\n",
      "[0.05, 0.1]\n"
     ]
    }
   ],
   "source": [
    "key = \"noise\"\n",
    "vals = list(set(frame[key]))\n",
    "print(vals)\n",
    "vals = sorted([float(l) for l in vals])\n",
    "print(vals)"
   ]
  },
  {
   "cell_type": "code",
   "execution_count": 21,
   "metadata": {
    "scrolled": true
   },
   "outputs": [
    {
     "name": "stdout",
     "output_type": "stream",
     "text": [
      "Dataset: 15-11-21a\n",
      "Intr: 0.5398819259300415\n",
      "bipolar: 0.4983767518643799\n",
      "amacrine: 0.6002308872372271\n",
      "Acc: 0.7732180571622387\n",
      "\n",
      "noise: 0.05\n",
      "Intr: 0.4906789940032217\n",
      "bipolar: 0.4692790948462911\n",
      "amacrine: 0.5567122667561405\n",
      "Acc: 0.7743237888310115\n",
      "\n",
      "noise: 0.1\n",
      "Intr: 0.5024380591015998\n",
      "bipolar: 0.4878667492873077\n",
      "amacrine: 0.5655725505884867\n",
      "Acc: 0.7577239099549092\n",
      "\n",
      "\n",
      "\n",
      "Dataset: 15-11-21b\n",
      "Intr: 0.5122050981829235\n",
      "bipolar: 0.4648167558105865\n",
      "amacrine: 0.5708461186734438\n",
      "Acc: 0.6610272837010468\n",
      "\n",
      "noise: 0.05\n",
      "Intr: 0.4226796948266309\n",
      "bipolar: 0.39116610990468964\n",
      "amacrine: 0.48818041191454187\n",
      "Acc: 0.6469025858040122\n",
      "\n",
      "noise: 0.1\n",
      "Intr: 0.4444567472093972\n",
      "bipolar: 0.4225936464641414\n",
      "amacrine: 0.506470078210253\n",
      "Acc: 0.6191895677446841\n",
      "\n",
      "\n",
      "\n",
      "Dataset: 15-10-07\n",
      "Intr: 0.3882708946138798\n",
      "bipolar: 0.3776691927964024\n",
      "amacrine: 0.43042715263151016\n",
      "Acc: 0.7176220128495391\n",
      "\n",
      "noise: 0.05\n",
      "Intr: 0.32221113726648354\n",
      "bipolar: 0.284846147667689\n",
      "amacrine: 0.3607960852238591\n",
      "Acc: 0.7261324499357302\n",
      "\n",
      "noise: 0.1\n",
      "Intr: 0.3529185372459287\n",
      "bipolar: 0.30271917641285806\n",
      "amacrine: 0.4092868985211096\n",
      "Acc: 0.7181320628906085\n",
      "\n",
      "\n",
      "\n"
     ]
    }
   ],
   "source": [
    "for dataset in datasets:\n",
    "    print(\"Dataset:\", dataset)\n",
    "    print(\"Intr:\", np.mean(drone.loc[(drone['dataset']==dataset) & (drone['stim_type']==\"naturalscene\"),\"Meanintracellular\"].dropna()))\n",
    "    print(\"bipolar:\", np.mean(drone.loc[(drone['dataset']==dataset) & (drone['stim_type']==\"naturalscene\"),\"bipolar_intr_cor\"].dropna()))\n",
    "    print(\"amacrine:\", np.mean(drone.loc[(drone['dataset']==dataset) & (drone['stim_type']==\"naturalscene\"),\"amacrine_intr_cor\"].dropna()))\n",
    "    print(\"Acc:\", np.mean(drone.loc[(drone['dataset']==dataset) & (drone['stim_type']==\"naturalscene\"),\"best_acc\"].dropna()))    \n",
    "    print()\n",
    "    for val in vals:\n",
    "        print(key+\":\", val)\n",
    "        print(\"Intr:\", np.mean(frame.loc[(frame['dataset']==dataset) & (frame[key]==val),\"Meanintracellular\"].dropna()))\n",
    "        print(\"bipolar:\", np.mean(frame.loc[(frame['dataset']==dataset) & (frame[key]==val),\"bipolar_intr_cor\"].dropna()))\n",
    "        print(\"amacrine:\", np.mean(frame.loc[(frame['dataset']==dataset) & (frame[key]==val),\"amacrine_intr_cor\"].dropna()))\n",
    "        print(\"Acc:\", np.mean(frame.loc[(frame['dataset']==dataset) & (frame[key]==val),\"best_acc\"].dropna()))    \n",
    "        print()\n",
    "    print()\n",
    "    print()"
   ]
  },
  {
   "cell_type": "markdown",
   "metadata": {},
   "source": [
    "#### log_poisson"
   ]
  },
  {
   "cell_type": "code",
   "execution_count": 22,
   "metadata": {},
   "outputs": [],
   "source": [
    "frame.loc[frame[\"log_poisson\"].isna(),\"log_poisson\"] = vals[1]"
   ]
  },
  {
   "cell_type": "code",
   "execution_count": 23,
   "metadata": {},
   "outputs": [
    {
     "name": "stdout",
     "output_type": "stream",
     "text": [
      "[False, True]\n"
     ]
    }
   ],
   "source": [
    "key = \"log_poisson\"\n",
    "vals = list(set(frame[key]))\n",
    "print(vals)"
   ]
  },
  {
   "cell_type": "code",
   "execution_count": 24,
   "metadata": {
    "scrolled": true
   },
   "outputs": [
    {
     "name": "stdout",
     "output_type": "stream",
     "text": [
      "Dataset: 15-11-21a\n",
      "Intr: 0.5398819259300415\n",
      "bipolar: 0.4983767518643799\n",
      "amacrine: 0.6002308872372271\n",
      "Acc: 0.7732180571622387\n",
      "\n",
      "log_poisson: False\n",
      "Intr: 0.49195539193772736\n",
      "bipolar: 0.46988289184108\n",
      "amacrine: 0.5558018971548554\n",
      "Acc: 0.7644492614841552\n",
      "\n",
      "log_poisson: True\n",
      "Intr: 0.5181892082161912\n",
      "bipolar: 0.5161578836054406\n",
      "amacrine: 0.581933891763325\n",
      "Acc: 0.7548629693856006\n",
      "\n",
      "\n",
      "\n",
      "Dataset: 15-11-21b\n",
      "Intr: 0.5122050981829235\n",
      "bipolar: 0.4648167558105865\n",
      "amacrine: 0.5708461186734438\n",
      "Acc: 0.6610272837010468\n",
      "\n",
      "log_poisson: False\n",
      "Intr: 0.4280156741645112\n",
      "bipolar: 0.4015358029915877\n",
      "amacrine: 0.49239493387075606\n",
      "Acc: 0.6291650533727844\n",
      "\n",
      "log_poisson: True\n",
      "Intr: 0.46649368061091046\n",
      "bipolar: 0.44799044155070894\n",
      "amacrine: 0.5256186915884766\n",
      "Acc: 0.6174188166847058\n",
      "\n",
      "\n",
      "\n",
      "Dataset: 15-10-07\n",
      "Intr: 0.3882708946138798\n",
      "bipolar: 0.3776691927964024\n",
      "amacrine: 0.43042715263151016\n",
      "Acc: 0.7176220128495391\n",
      "\n",
      "log_poisson: False\n",
      "Intr: 0.33947301027789833\n",
      "bipolar: 0.298321969924948\n",
      "amacrine: 0.3903758037255912\n",
      "Acc: 0.7212214501057462\n",
      "\n",
      "log_poisson: True\n",
      "Intr: 0.3579327765920393\n",
      "bipolar: 0.2980946076901249\n",
      "amacrine: 0.4120986564334497\n",
      "Acc: 0.7177357206534029\n",
      "\n",
      "\n",
      "\n"
     ]
    }
   ],
   "source": [
    "for dataset in datasets:\n",
    "    print(\"Dataset:\", dataset)\n",
    "    print(\"Intr:\", np.mean(drone.loc[(drone['dataset']==dataset) & (drone['stim_type']==\"naturalscene\"),\"Meanintracellular\"].dropna()))\n",
    "    print(\"bipolar:\", np.mean(drone.loc[(drone['dataset']==dataset) & (drone['stim_type']==\"naturalscene\"),\"bipolar_intr_cor\"].dropna()))\n",
    "    print(\"amacrine:\", np.mean(drone.loc[(drone['dataset']==dataset) & (drone['stim_type']==\"naturalscene\"),\"amacrine_intr_cor\"].dropna()))\n",
    "    print(\"Acc:\", np.mean(drone.loc[(drone['dataset']==dataset) & (drone['stim_type']==\"naturalscene\"),\"best_acc\"].dropna()))    \n",
    "    print()\n",
    "    for val in vals:\n",
    "        print(key+\":\", val)\n",
    "        print(\"Intr:\", np.mean(frame.loc[(frame['dataset']==dataset) & (frame[key]==val),\"Meanintracellular\"].dropna()))\n",
    "        print(\"bipolar:\", np.mean(frame.loc[(frame['dataset']==dataset) & (frame[key]==val),\"bipolar_intr_cor\"].dropna()))\n",
    "        print(\"amacrine:\", np.mean(frame.loc[(frame['dataset']==dataset) & (frame[key]==val),\"amacrine_intr_cor\"].dropna()))\n",
    "        print(\"Acc:\", np.mean(frame.loc[(frame['dataset']==dataset) & (frame[key]==val),\"best_acc\"].dropna()))    \n",
    "        print()\n",
    "    print()\n",
    "    print()"
   ]
  },
  {
   "cell_type": "markdown",
   "metadata": {},
   "source": [
    "#### Batch Size"
   ]
  },
  {
   "cell_type": "code",
   "execution_count": 25,
   "metadata": {},
   "outputs": [
    {
     "name": "stdout",
     "output_type": "stream",
     "text": [
      "[512, 2056]\n",
      "[512, 2056]\n"
     ]
    }
   ],
   "source": [
    "key = \"batch_size\"\n",
    "vals = list(set(frame[key]))\n",
    "print(vals)\n",
    "vals = sorted([int(l) for l in vals])\n",
    "print(vals)"
   ]
  },
  {
   "cell_type": "code",
   "execution_count": 26,
   "metadata": {
    "scrolled": true
   },
   "outputs": [
    {
     "name": "stdout",
     "output_type": "stream",
     "text": [
      "Dataset: 15-11-21a\n",
      "Intr: 0.5398819259300415\n",
      "bipolar: 0.4983767518643799\n",
      "amacrine: 0.6002308872372271\n",
      "Acc: 0.7732180571622387\n",
      "\n",
      "batch_size: 512\n",
      "Intr: 0.5024380591015998\n",
      "bipolar: 0.4878667492873077\n",
      "amacrine: 0.5655725505884867\n",
      "Acc: 0.7577239099549092\n",
      "\n",
      "batch_size: 2056\n",
      "Intr: 0.4906789940032217\n",
      "bipolar: 0.4692790948462911\n",
      "amacrine: 0.5567122667561405\n",
      "Acc: 0.7743237888310115\n",
      "\n",
      "\n",
      "\n",
      "Dataset: 15-11-21b\n",
      "Intr: 0.5122050981829235\n",
      "bipolar: 0.4648167558105865\n",
      "amacrine: 0.5708461186734438\n",
      "Acc: 0.6610272837010468\n",
      "\n",
      "batch_size: 512\n",
      "Intr: 0.4444567472093972\n",
      "bipolar: 0.4225936464641414\n",
      "amacrine: 0.506470078210253\n",
      "Acc: 0.6191895677446841\n",
      "\n",
      "batch_size: 2056\n",
      "Intr: 0.4226796948266309\n",
      "bipolar: 0.39116610990468964\n",
      "amacrine: 0.48818041191454187\n",
      "Acc: 0.6469025858040122\n",
      "\n",
      "\n",
      "\n",
      "Dataset: 15-10-07\n",
      "Intr: 0.3882708946138798\n",
      "bipolar: 0.3776691927964024\n",
      "amacrine: 0.43042715263151016\n",
      "Acc: 0.7176220128495391\n",
      "\n",
      "batch_size: 512\n",
      "Intr: 0.3529185372459287\n",
      "bipolar: 0.30271917641285806\n",
      "amacrine: 0.4092868985211096\n",
      "Acc: 0.7181320628906085\n",
      "\n",
      "batch_size: 2056\n",
      "Intr: 0.32221113726648354\n",
      "bipolar: 0.284846147667689\n",
      "amacrine: 0.3607960852238591\n",
      "Acc: 0.7261324499357302\n",
      "\n",
      "\n",
      "\n"
     ]
    }
   ],
   "source": [
    "for dataset in datasets:\n",
    "    print(\"Dataset:\", dataset)\n",
    "    print(\"Intr:\", np.mean(drone.loc[(drone['dataset']==dataset) & (drone['stim_type']==\"naturalscene\"),\"Meanintracellular\"].dropna()))\n",
    "    print(\"bipolar:\", np.mean(drone.loc[(drone['dataset']==dataset) & (drone['stim_type']==\"naturalscene\"),\"bipolar_intr_cor\"].dropna()))\n",
    "    print(\"amacrine:\", np.mean(drone.loc[(drone['dataset']==dataset) & (drone['stim_type']==\"naturalscene\"),\"amacrine_intr_cor\"].dropna()))\n",
    "    print(\"Acc:\", np.mean(drone.loc[(drone['dataset']==dataset) & (drone['stim_type']==\"naturalscene\"),\"best_acc\"].dropna()))    \n",
    "    print()\n",
    "    for val in vals:\n",
    "        print(key+\":\", val)\n",
    "        print(\"Intr:\", np.mean(frame.loc[(frame['dataset']==dataset) & (frame[key]==val),\"Meanintracellular\"].dropna()))\n",
    "        print(\"bipolar:\", np.mean(frame.loc[(frame['dataset']==dataset) & (frame[key]==val),\"bipolar_intr_cor\"].dropna()))\n",
    "        print(\"amacrine:\", np.mean(frame.loc[(frame['dataset']==dataset) & (frame[key]==val),\"amacrine_intr_cor\"].dropna()))\n",
    "        print(\"Acc:\", np.mean(frame.loc[(frame['dataset']==dataset) & (frame[key]==val),\"best_acc\"].dropna()))    \n",
    "        print()\n",
    "    print()\n",
    "    print()"
   ]
  },
  {
   "cell_type": "markdown",
   "metadata": {},
   "source": [
    "#### Epochs"
   ]
  },
  {
   "cell_type": "code",
   "execution_count": 28,
   "metadata": {},
   "outputs": [
    {
     "name": "stdout",
     "output_type": "stream",
     "text": [
      "[200, 100, 55]\n",
      "[55, 100, 200]\n"
     ]
    }
   ],
   "source": [
    "key = \"n_epochs\"\n",
    "vals = list(set(frame[key]))\n",
    "print(vals)\n",
    "vals = [int(x) for x in sorted([int(l) for l in vals])]\n",
    "print(vals)"
   ]
  },
  {
   "cell_type": "code",
   "execution_count": 29,
   "metadata": {
    "scrolled": true
   },
   "outputs": [
    {
     "name": "stdout",
     "output_type": "stream",
     "text": [
      "Dataset: 15-11-21a\n",
      "Intr: 0.5398819259300415\n",
      "bipolar: 0.4983767518643799\n",
      "amacrine: 0.6002308872372271\n",
      "Acc: 0.7732180571622387\n",
      "\n",
      "n_epochs: 55\n",
      "Intr: 0.5167635066127181\n",
      "bipolar: 0.5045661923185035\n",
      "amacrine: 0.5805571862050142\n",
      "Acc: 0.756646802875364\n",
      "\n",
      "n_epochs: 100\n",
      "Intr: 0.4906789940032217\n",
      "bipolar: 0.4692790948462911\n",
      "amacrine: 0.5567122667561405\n",
      "Acc: 0.7743237888310115\n",
      "\n",
      "n_epochs: 200\n",
      "Intr: 0.4546865673978721\n",
      "bipolar: 0.4322019391833218\n",
      "amacrine: 0.5156237652000616\n",
      "Acc: 0.7613142668867264\n",
      "\n",
      "\n",
      "\n",
      "Dataset: 15-11-21b\n",
      "Intr: 0.5122050981829235\n",
      "bipolar: 0.4648167558105865\n",
      "amacrine: 0.5708461186734438\n",
      "Acc: 0.6610272837010468\n",
      "\n",
      "n_epochs: 55\n",
      "Intr: 0.46210963017469997\n",
      "bipolar: 0.4395168367119062\n",
      "amacrine: 0.5254915381096958\n",
      "Acc: 0.6134337979359084\n",
      "\n",
      "n_epochs: 100\n",
      "Intr: 0.4226796948266309\n",
      "bipolar: 0.39116610990468964\n",
      "amacrine: 0.48818041191454187\n",
      "Acc: 0.6469025858040122\n",
      "\n",
      "n_epochs: 200\n",
      "Intr: 0.38561380399172124\n",
      "bipolar: 0.36618301230492506\n",
      "amacrine: 0.44306521187877707\n",
      "Acc: 0.6383754671072697\n",
      "\n",
      "\n",
      "\n",
      "Dataset: 15-10-07\n",
      "Intr: 0.3882708946138798\n",
      "bipolar: 0.3776691927964024\n",
      "amacrine: 0.43042715263151016\n",
      "Acc: 0.7176220128495391\n",
      "\n",
      "n_epochs: 55\n",
      "Intr: 0.36108541075652234\n",
      "bipolar: 0.30654788038377506\n",
      "amacrine: 0.4180240511295102\n",
      "Acc: 0.7116541740001536\n",
      "\n",
      "n_epochs: 100\n",
      "Intr: 0.32221113726648354\n",
      "bipolar: 0.284846147667689\n",
      "amacrine: 0.3607960852238591\n",
      "Acc: 0.7261324499357302\n",
      "\n",
      "n_epochs: 200\n",
      "Intr: 0.32841791671414766\n",
      "bipolar: 0.2912330645001071\n",
      "amacrine: 0.383075440695908\n",
      "Acc: 0.7375657295619732\n",
      "\n",
      "\n",
      "\n"
     ]
    }
   ],
   "source": [
    "for dataset in datasets:\n",
    "    print(\"Dataset:\", dataset)\n",
    "    print(\"Intr:\", np.mean(drone.loc[(drone['dataset']==dataset) & (drone['stim_type']==\"naturalscene\"),\"Meanintracellular\"].dropna()))\n",
    "    print(\"bipolar:\", np.mean(drone.loc[(drone['dataset']==dataset) & (drone['stim_type']==\"naturalscene\"),\"bipolar_intr_cor\"].dropna()))\n",
    "    print(\"amacrine:\", np.mean(drone.loc[(drone['dataset']==dataset) & (drone['stim_type']==\"naturalscene\"),\"amacrine_intr_cor\"].dropna()))\n",
    "    print(\"Acc:\", np.mean(drone.loc[(drone['dataset']==dataset) & (drone['stim_type']==\"naturalscene\"),\"best_acc\"].dropna()))    \n",
    "    print()\n",
    "    for val in vals:\n",
    "        print(key+\":\", val)\n",
    "        print(\"Intr:\", np.mean(frame.loc[(frame['dataset']==dataset) & (frame[key]==val),\"Meanintracellular\"].dropna()))\n",
    "        print(\"bipolar:\", np.mean(frame.loc[(frame['dataset']==dataset) & (frame[key]==val),\"bipolar_intr_cor\"].dropna()))\n",
    "        print(\"amacrine:\", np.mean(frame.loc[(frame['dataset']==dataset) & (frame[key]==val),\"amacrine_intr_cor\"].dropna()))\n",
    "        print(\"Acc:\", np.mean(frame.loc[(frame['dataset']==dataset) & (frame[key]==val),\"best_acc\"].dropna()))    \n",
    "        print()\n",
    "    print()\n",
    "    print()"
   ]
  },
  {
   "cell_type": "markdown",
   "metadata": {},
   "source": [
    "#### BNorm Momentum"
   ]
  },
  {
   "cell_type": "code",
   "execution_count": 30,
   "metadata": {},
   "outputs": [
    {
     "name": "stdout",
     "output_type": "stream",
     "text": [
      "[0.01]\n",
      "[0.01]\n"
     ]
    }
   ],
   "source": [
    "key = \"bnorm_momentum\"\n",
    "vals = list(set(frame[key]))\n",
    "print(vals)\n",
    "vals = sorted([float(l) for l in vals])\n",
    "print(vals)"
   ]
  },
  {
   "cell_type": "code",
   "execution_count": 31,
   "metadata": {
    "scrolled": true
   },
   "outputs": [
    {
     "name": "stdout",
     "output_type": "stream",
     "text": [
      "Dataset: 15-11-21a\n",
      "Intr: 0.5398819259300415\n",
      "bipolar: 0.4983767518643799\n",
      "amacrine: 0.6002308872372271\n",
      "Acc: 0.7732180571622387\n",
      "\n",
      "bnorm_momentum: 0.01\n",
      "Intr: 0.4996712202549225\n",
      "bipolar: 0.48349318353648024\n",
      "amacrine: 0.5634877779220523\n",
      "Acc: 0.7616297638081098\n",
      "\n",
      "\n",
      "\n",
      "Dataset: 15-11-21b\n",
      "Intr: 0.5122050981829235\n",
      "bipolar: 0.4648167558105865\n",
      "amacrine: 0.5708461186734438\n",
      "Acc: 0.6610272837010468\n",
      "\n",
      "bnorm_momentum: 0.01\n",
      "Intr: 0.4393327348840404\n",
      "bipolar: 0.4151989319795645\n",
      "amacrine: 0.5021666273171445\n",
      "Acc: 0.6257102778762906\n",
      "\n",
      "\n",
      "\n",
      "Dataset: 15-10-07\n",
      "Intr: 0.3882708946138798\n",
      "bipolar: 0.3776691927964024\n",
      "amacrine: 0.43042715263151016\n",
      "Acc: 0.7176220128495391\n",
      "\n",
      "bnorm_momentum: 0.01\n",
      "Intr: 0.3452416872510674\n",
      "bipolar: 0.29825091922656577\n",
      "amacrine: 0.397164195196797\n",
      "Acc: 0.720132159651889\n",
      "\n",
      "\n",
      "\n"
     ]
    }
   ],
   "source": [
    "for dataset in datasets:\n",
    "    print(\"Dataset:\", dataset)\n",
    "    print(\"Intr:\", np.mean(drone.loc[(drone['dataset']==dataset) & (drone['stim_type']==\"naturalscene\"),\"Meanintracellular\"].dropna()))\n",
    "    print(\"bipolar:\", np.mean(drone.loc[(drone['dataset']==dataset) & (drone['stim_type']==\"naturalscene\"),\"bipolar_intr_cor\"].dropna()))\n",
    "    print(\"amacrine:\", np.mean(drone.loc[(drone['dataset']==dataset) & (drone['stim_type']==\"naturalscene\"),\"amacrine_intr_cor\"].dropna()))\n",
    "    print(\"Acc:\", np.mean(drone.loc[(drone['dataset']==dataset) & (drone['stim_type']==\"naturalscene\"),\"best_acc\"].dropna()))    \n",
    "    print()\n",
    "    for val in vals:\n",
    "        print(key+\":\", val)\n",
    "        print(\"Intr:\", np.mean(frame.loc[(frame['dataset']==dataset) & (frame[key]==val),\"Meanintracellular\"].dropna()))\n",
    "        print(\"bipolar:\", np.mean(frame.loc[(frame['dataset']==dataset) & (frame[key]==val),\"bipolar_intr_cor\"].dropna()))\n",
    "        print(\"amacrine:\", np.mean(frame.loc[(frame['dataset']==dataset) & (frame[key]==val),\"amacrine_intr_cor\"].dropna()))\n",
    "        print(\"Acc:\", np.mean(frame.loc[(frame['dataset']==dataset) & (frame[key]==val),\"best_acc\"].dropna()))    \n",
    "        print()\n",
    "    print()\n",
    "    print()"
   ]
  },
  {
   "cell_type": "code",
   "execution_count": null,
   "metadata": {},
   "outputs": [],
   "source": []
  }
 ],
 "metadata": {
  "kernelspec": {
   "display_name": "Python 3",
   "language": "python",
   "name": "python3"
  },
  "language_info": {
   "codemirror_mode": {
    "name": "ipython",
    "version": 3
   },
   "file_extension": ".py",
   "mimetype": "text/x-python",
   "name": "python",
   "nbconvert_exporter": "python",
   "pygments_lexer": "ipython3",
   "version": "3.6.8"
  }
 },
 "nbformat": 4,
 "nbformat_minor": 4
}
